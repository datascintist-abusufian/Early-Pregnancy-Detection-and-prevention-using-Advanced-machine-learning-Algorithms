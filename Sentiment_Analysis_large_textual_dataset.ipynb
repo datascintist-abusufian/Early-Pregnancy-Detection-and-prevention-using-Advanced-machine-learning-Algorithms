{
  "nbformat": 4,
  "nbformat_minor": 0,
  "metadata": {
    "colab": {
      "provenance": [],
      "machine_shape": "hm",
      "gpuType": "V100"
    },
    "kernelspec": {
      "name": "python3",
      "display_name": "Python 3"
    },
    "language_info": {
      "name": "python"
    },
    "accelerator": "GPU"
  },
  "cells": [
    {
      "cell_type": "markdown",
      "source": [
        "#necessary libraries installed:"
      ],
      "metadata": {
        "id": "c-y8NMyxDWWf"
      }
    },
    {
      "cell_type": "code",
      "source": [
        "pip install nltk spacy\n"
      ],
      "metadata": {
        "colab": {
          "base_uri": "https://localhost:8080/"
        },
        "id": "A_J81BpRCqWo",
        "outputId": "aa72b09a-6a1f-48bb-d314-aebcfdc8e32a"
      },
      "execution_count": 5,
      "outputs": [
        {
          "output_type": "stream",
          "name": "stdout",
          "text": [
            "Requirement already satisfied: nltk in /usr/local/lib/python3.10/dist-packages (3.8.1)\n",
            "Requirement already satisfied: spacy in /usr/local/lib/python3.10/dist-packages (3.7.4)\n",
            "Requirement already satisfied: click in /usr/local/lib/python3.10/dist-packages (from nltk) (8.1.7)\n",
            "Requirement already satisfied: joblib in /usr/local/lib/python3.10/dist-packages (from nltk) (1.3.2)\n",
            "Requirement already satisfied: regex>=2021.8.3 in /usr/local/lib/python3.10/dist-packages (from nltk) (2023.12.25)\n",
            "Requirement already satisfied: tqdm in /usr/local/lib/python3.10/dist-packages (from nltk) (4.66.2)\n",
            "Requirement already satisfied: spacy-legacy<3.1.0,>=3.0.11 in /usr/local/lib/python3.10/dist-packages (from spacy) (3.0.12)\n",
            "Requirement already satisfied: spacy-loggers<2.0.0,>=1.0.0 in /usr/local/lib/python3.10/dist-packages (from spacy) (1.0.5)\n",
            "Requirement already satisfied: murmurhash<1.1.0,>=0.28.0 in /usr/local/lib/python3.10/dist-packages (from spacy) (1.0.10)\n",
            "Requirement already satisfied: cymem<2.1.0,>=2.0.2 in /usr/local/lib/python3.10/dist-packages (from spacy) (2.0.8)\n",
            "Requirement already satisfied: preshed<3.1.0,>=3.0.2 in /usr/local/lib/python3.10/dist-packages (from spacy) (3.0.9)\n",
            "Requirement already satisfied: thinc<8.3.0,>=8.2.2 in /usr/local/lib/python3.10/dist-packages (from spacy) (8.2.3)\n",
            "Requirement already satisfied: wasabi<1.2.0,>=0.9.1 in /usr/local/lib/python3.10/dist-packages (from spacy) (1.1.2)\n",
            "Requirement already satisfied: srsly<3.0.0,>=2.4.3 in /usr/local/lib/python3.10/dist-packages (from spacy) (2.4.8)\n",
            "Requirement already satisfied: catalogue<2.1.0,>=2.0.6 in /usr/local/lib/python3.10/dist-packages (from spacy) (2.0.10)\n",
            "Requirement already satisfied: weasel<0.4.0,>=0.1.0 in /usr/local/lib/python3.10/dist-packages (from spacy) (0.3.4)\n",
            "Requirement already satisfied: typer<0.10.0,>=0.3.0 in /usr/local/lib/python3.10/dist-packages (from spacy) (0.9.0)\n",
            "Requirement already satisfied: smart-open<7.0.0,>=5.2.1 in /usr/local/lib/python3.10/dist-packages (from spacy) (6.4.0)\n",
            "Requirement already satisfied: requests<3.0.0,>=2.13.0 in /usr/local/lib/python3.10/dist-packages (from spacy) (2.31.0)\n",
            "Requirement already satisfied: pydantic!=1.8,!=1.8.1,<3.0.0,>=1.7.4 in /usr/local/lib/python3.10/dist-packages (from spacy) (2.6.4)\n",
            "Requirement already satisfied: jinja2 in /usr/local/lib/python3.10/dist-packages (from spacy) (3.1.3)\n",
            "Requirement already satisfied: setuptools in /usr/local/lib/python3.10/dist-packages (from spacy) (67.7.2)\n",
            "Requirement already satisfied: packaging>=20.0 in /usr/local/lib/python3.10/dist-packages (from spacy) (24.0)\n",
            "Requirement already satisfied: langcodes<4.0.0,>=3.2.0 in /usr/local/lib/python3.10/dist-packages (from spacy) (3.3.0)\n",
            "Requirement already satisfied: numpy>=1.19.0 in /usr/local/lib/python3.10/dist-packages (from spacy) (1.25.2)\n",
            "Requirement already satisfied: annotated-types>=0.4.0 in /usr/local/lib/python3.10/dist-packages (from pydantic!=1.8,!=1.8.1,<3.0.0,>=1.7.4->spacy) (0.6.0)\n",
            "Requirement already satisfied: pydantic-core==2.16.3 in /usr/local/lib/python3.10/dist-packages (from pydantic!=1.8,!=1.8.1,<3.0.0,>=1.7.4->spacy) (2.16.3)\n",
            "Requirement already satisfied: typing-extensions>=4.6.1 in /usr/local/lib/python3.10/dist-packages (from pydantic!=1.8,!=1.8.1,<3.0.0,>=1.7.4->spacy) (4.10.0)\n",
            "Requirement already satisfied: charset-normalizer<4,>=2 in /usr/local/lib/python3.10/dist-packages (from requests<3.0.0,>=2.13.0->spacy) (3.3.2)\n",
            "Requirement already satisfied: idna<4,>=2.5 in /usr/local/lib/python3.10/dist-packages (from requests<3.0.0,>=2.13.0->spacy) (3.6)\n",
            "Requirement already satisfied: urllib3<3,>=1.21.1 in /usr/local/lib/python3.10/dist-packages (from requests<3.0.0,>=2.13.0->spacy) (2.0.7)\n",
            "Requirement already satisfied: certifi>=2017.4.17 in /usr/local/lib/python3.10/dist-packages (from requests<3.0.0,>=2.13.0->spacy) (2024.2.2)\n",
            "Requirement already satisfied: blis<0.8.0,>=0.7.8 in /usr/local/lib/python3.10/dist-packages (from thinc<8.3.0,>=8.2.2->spacy) (0.7.11)\n",
            "Requirement already satisfied: confection<1.0.0,>=0.0.1 in /usr/local/lib/python3.10/dist-packages (from thinc<8.3.0,>=8.2.2->spacy) (0.1.4)\n",
            "Requirement already satisfied: cloudpathlib<0.17.0,>=0.7.0 in /usr/local/lib/python3.10/dist-packages (from weasel<0.4.0,>=0.1.0->spacy) (0.16.0)\n",
            "Requirement already satisfied: MarkupSafe>=2.0 in /usr/local/lib/python3.10/dist-packages (from jinja2->spacy) (2.1.5)\n"
          ]
        }
      ]
    },
    {
      "cell_type": "markdown",
      "source": [
        "#download the spaCy English model:\n",
        "\n",
        "done in terminal"
      ],
      "metadata": {
        "id": "vtGsvqTADZU1"
      }
    },
    {
      "cell_type": "markdown",
      "source": [
        "#preprocessing\n",
        "\n",
        "Lowercasing"
      ],
      "metadata": {
        "id": "aoh1ZP2WWJh-"
      }
    },
    {
      "cell_type": "code",
      "source": [
        "\n",
        "import nltk\n",
        "import spacy\n",
        "from nltk.corpus import stopwords\n",
        "from nltk.tokenize import word_tokenize\n",
        "\n",
        "# Download necessary NLTK datasets\n",
        "nltk.download('punkt')\n",
        "nltk.download('stopwords')\n",
        "\n",
        "# Load spaCy English model\n",
        "nlp = spacy.load(\"en_core_web_sm\")\n",
        "\n",
        "# Sample text for demonstration\n",
        "sample_text = \"Ever since I found out I'm deficient in Vitamin D, my doctor recommended more sunlight exposure.\"\n",
        "\n",
        "# Tokenize and convert to lowercase\n",
        "tokens = word_tokenize(sample_text.lower())\n",
        "\n",
        "# Define custom stop words list, excluding some that might be relevant for clinical analysis\n",
        "custom_stop_words = set(stopwords.words('english')) - {'above', 'below', 'not', 'against', 'up', 'down', 'in', 'out', 'on', 'off', 'over', 'under'}\n",
        "filtered_tokens = [word for word in tokens if word not in custom_stop_words]\n",
        "\n",
        "# Lemmatize tokens using spaCy\n",
        "lemmatized_tokens = [token.lemma_ for token in nlp(' '.join(filtered_tokens))]\n",
        "\n",
        "lemmatized_tokens\n"
      ],
      "metadata": {
        "id": "eaH4uSuyWIPK",
        "colab": {
          "base_uri": "https://localhost:8080/"
        },
        "outputId": "ce6f8389-fd87-40ad-a5a6-84603751959e"
      },
      "execution_count": 6,
      "outputs": [
        {
          "output_type": "stream",
          "name": "stderr",
          "text": [
            "[nltk_data] Downloading package punkt to /root/nltk_data...\n",
            "[nltk_data]   Package punkt is already up-to-date!\n",
            "[nltk_data] Downloading package stopwords to /root/nltk_data...\n",
            "[nltk_data]   Package stopwords is already up-to-date!\n",
            "/usr/local/lib/python3.10/dist-packages/spacy/util.py:1740: UserWarning: [W111] Jupyter notebook detected: if using `prefer_gpu()` or `require_gpu()`, include it in the same cell right before `spacy.load()` to ensure that the model is loaded on the correct device. More information: http://spacy.io/usage/v3#jupyter-notebook-gpu\n",
            "  warnings.warn(Warnings.W111)\n"
          ]
        },
        {
          "output_type": "execute_result",
          "data": {
            "text/plain": [
              "['ever',\n",
              " 'since',\n",
              " 'find',\n",
              " 'out',\n",
              " \"'\",\n",
              " 'm',\n",
              " 'deficient',\n",
              " 'in',\n",
              " 'vitamin',\n",
              " ',',\n",
              " 'doctor',\n",
              " 'recommend',\n",
              " 'sunlight',\n",
              " 'exposure',\n",
              " '.']"
            ]
          },
          "metadata": {},
          "execution_count": 6
        }
      ]
    },
    {
      "cell_type": "code",
      "source": [
        "from textblob import TextBlob\n",
        "import pandas as pd\n",
        "\n",
        "# Assuming your dataset is already loaded into DataFrame 'df'\n",
        "file_path = '/content/large_clinical_validation_textual_dataset.xlsx'\n",
        "df = pd.read_excel(file_path)\n",
        "\n",
        "# Define a function to analyze sentiment and return both polarity and subjectivity\n",
        "def analyze_sentiment(text):\n",
        "    analysis = TextBlob(text)\n",
        "    return analysis.sentiment.polarity, analysis.sentiment.subjectivity\n",
        "\n",
        "# Apply the function to the 'Comment' column and create two new columns for polarity and subjectivity\n",
        "df['Sentiment Polarity'], df['Subjectivity'] = zip(*df['Comment'].apply(analyze_sentiment))\n",
        "\n",
        "# Define a function to categorize sentiments based on polarity\n",
        "def categorize_sentiment(polarity):\n",
        "    if polarity > 0:\n",
        "        return 'Positive'\n",
        "    elif polarity < 0:\n",
        "        return 'Negative'\n",
        "    else:\n",
        "        return 'Neutral'\n",
        "\n",
        "# Apply the function to categorize sentiment\n",
        "df['Sentiment Category'] = df['Sentiment Polarity'].apply(categorize_sentiment)\n",
        "\n",
        "# Define a new way to calculate Sentiment Score, considering both polarity and subjectivity\n",
        "def calculate_sentiment_score(polarity, subjectivity):\n",
        "    # Example transformation: absolute value of polarity multiplied by subjectivity, scaled to 0-100\n",
        "    return abs(polarity) * subjectivity * 100\n",
        "\n",
        "# Apply the new calculation for Sentiment Score\n",
        "df['Sentiment Score'] = df.apply(lambda x: calculate_sentiment_score(x['Sentiment Polarity'], x['Subjectivity']), axis=1)\n",
        "\n",
        "# Adjust pandas display settings\n",
        "pd.set_option('display.max_columns', None)\n",
        "pd.set_option('display.width', None)\n",
        "pd.set_option('display.max_colwidth', None)\n",
        "\n",
        "# Display the DataFrame with the sentiment analysis for the first 20 rows\n",
        "print(df[['Patient ID', 'Comment', 'Sentiment Polarity', 'Sentiment Score', 'Sentiment Category', 'Subjectivity']].head(25))\n"
      ],
      "metadata": {
        "id": "ChO-AA42OMWt",
        "colab": {
          "base_uri": "https://localhost:8080/"
        },
        "outputId": "35f72d78-842b-482c-e0f7-bd1fb4932bcb"
      },
      "execution_count": 7,
      "outputs": [
        {
          "output_type": "stream",
          "name": "stdout",
          "text": [
            "    Patient ID  \\\n",
            "0            1   \n",
            "1            2   \n",
            "2            3   \n",
            "3            4   \n",
            "4            5   \n",
            "5            6   \n",
            "6            7   \n",
            "7            8   \n",
            "8            9   \n",
            "9           10   \n",
            "10          11   \n",
            "11          12   \n",
            "12          13   \n",
            "13          14   \n",
            "14          15   \n",
            "15          16   \n",
            "16          17   \n",
            "17          18   \n",
            "18          19   \n",
            "19          20   \n",
            "20          21   \n",
            "21          22   \n",
            "22          23   \n",
            "23          24   \n",
            "24          25   \n",
            "\n",
            "                                                                                                                                                                                                                                        Comment  \\\n",
            "0   Ever since I found out I'm deficient in Vitamin D during my first trimester, I've made it a point to walk in the park every morning. It's not just about the vitamin; it's my time to connect with nature and reflect on the journey ahead.   \n",
            "1                                     My nutritionist introduced me to a variety of Vitamin D-rich foods that I had never considered before. Incorporating mushrooms and fortified orange juice into my diet has been an interesting adventure.   \n",
            "2             I was skeptical about taking supplements, but my doctor explained the importance of maintaining optimal Vitamin D levels for both my health and the baby's development. I've noticed a positive change in my energy levels since.   \n",
            "3                                   Reading about the potential link between Vitamin D deficiency and gestational diabetes made me more vigilant about my intake. I've started including more dairy products and fatty fish in my weekly meals.   \n",
            "4                                                The winter season has always been tough for me to get enough sunlight. Investing in a UV lamp on my doctor's recommendation has made a significant difference in my mood and Vitamin D levels.   \n",
            "5                                                   As someone who wears full-cover clothing, I've had to find alternative ways to ensure I get enough Vitamin D. Supplements and Vitamin D-rich foods have become staples in my daily routine.   \n",
            "6                                           Joining a prenatal yoga class that's held outdoors has been a game-changer for me. It's not just about staying active; it's about soaking up the sun and ensuring I get my daily dose of Vitamin D.   \n",
            "7                                    My partner and I have started planning our meals together, focusing on incorporating Vitamin D-rich ingredients. It's become a fun activity that not only benefits my pregnancy but also our relationship.   \n",
            "8                 After experiencing mood swings, my doctor suggested monitoring my Vitamin D levels. I was surprised to learn about its impact on mental health during pregnancy. I feel more balanced after making the necessary adjustments.   \n",
            "9                           I've always been proactive about my health, but pregnancy has made me even more so. Learning about the importance of Vitamin D for fetal bone development has led me to adjust my diet and lifestyle significantly.   \n",
            "10   Finding out about my Vitamin D deficiency was a wake-up call to take my prenatal health more seriously. It spurred me to not only follow a supplementation regimen but also to delve deeper into understanding nutrition during pregnancy.   \n",
            "11                                               Adjusting to life in a less sunny environment has been challenging, especially during my pregnancy. I've had to be creative with my diet and supplement intake to keep my Vitamin D levels up.   \n",
            "12                           Discovering the variety of Vitamin D supplements available was overwhelming at first. After consulting with my healthcare provider, I found the right type that suits my needs and doesn't cause any side effects.   \n",
            "13                                             The change in seasons significantly affects my Vitamin D intake due to reduced sunlight exposure. I've learned to adapt by enriching my diet with eggs, cheese, and Vitamin D-fortified cereals.   \n",
            "14                   Dealing with Vitamin D deficiency has taught me a lot about my body's needs during pregnancy. I've embraced a more balanced lifestyle, ensuring I get enough sunlight and nutrients for my well-being and that of my baby.   \n",
            "15                                         My family's history of osteoporosis made me more conscious of my Vitamin D levels during pregnancy. I've been diligent about supplementation and regular check-ups to ensure everything is on track.   \n",
            "16                                                             Transitioning to a work-from-home setup has made it easier for me to manage my Vitamin D intake. I make it a point to spend my breaks outdoors to benefit from natural sunlight.   \n",
            "17                         I was amazed to learn about the role of Vitamin D in supporting the immune system, especially during pregnancy. This knowledge has motivated me to prioritize my Vitamin D intake through both diet and supplements.   \n",
            "18                                                                            Finding vegetarian sources of Vitamin D has been a journey during my pregnancy. Fortified plant-based milk and UV-exposed mushrooms have become my go-to options.   \n",
            "19                   The first time I heard about the importance of Vitamin D in preventing preterm birth, I was taken aback. It has since become a focal point in my prenatal care routine, with regular monitoring and adjustments as needed.   \n",
            "20  Ever since I found out I'm deficient in Vitamin D during my first trimester, I've made it a point to walk in the park every morning. It's not just about the vitamin; it's my time to connect with nature and reflect on the journey ahead.   \n",
            "21                                    My nutritionist introduced me to a variety of Vitamin D-rich foods that I had never considered before. Incorporating mushrooms and fortified orange juice into my diet has been an interesting adventure.   \n",
            "22            I was skeptical about taking supplements, but my doctor explained the importance of maintaining optimal Vitamin D levels for both my health and the baby's development. I've noticed a positive change in my energy levels since.   \n",
            "23                                  Reading about the potential link between Vitamin D deficiency and gestational diabetes made me more vigilant about my intake. I've started including more dairy products and fatty fish in my weekly meals.   \n",
            "24                                               The winter season has always been tough for me to get enough sunlight. Investing in a UV lamp on my doctor's recommendation has made a significant difference in my mood and Vitamin D levels.   \n",
            "\n",
            "    Sentiment Polarity  Sentiment Score Sentiment Category  Subjectivity  \n",
            "0            -0.075000         3.875000           Negative      0.516667  \n",
            "1             0.500000        25.000000           Positive      0.500000  \n",
            "2            -0.136364         7.128099           Negative      0.522727  \n",
            "3             0.200000        12.000000           Positive      0.600000  \n",
            "4            -0.004630         0.340792           Negative      0.736111  \n",
            "5             0.000000         0.000000            Neutral      0.250000  \n",
            "6            -0.066667         2.000000           Negative      0.300000  \n",
            "7             0.150000         9.000000           Positive      0.600000  \n",
            "8             0.125000         8.125000           Positive      0.650000  \n",
            "9             0.437500        30.078125           Positive      0.687500  \n",
            "10            0.055556         4.012346           Positive      0.722222  \n",
            "11            0.208333        15.972222           Positive      0.766667  \n",
            "12            0.358929        20.360651           Positive      0.567262  \n",
            "13            0.125000         7.812500           Positive      0.625000  \n",
            "14            0.250000        12.500000           Positive      0.500000  \n",
            "15            0.200000         7.179487           Positive      0.358974  \n",
            "16            0.100000         4.000000           Positive      0.400000  \n",
            "17            0.125000         7.812500           Positive      0.625000  \n",
            "18            0.000000         0.000000            Neutral      0.000000  \n",
            "19            0.125000         2.564103           Positive      0.205128  \n",
            "20           -0.075000         3.875000           Negative      0.516667  \n",
            "21            0.500000        25.000000           Positive      0.500000  \n",
            "22           -0.136364         7.128099           Negative      0.522727  \n",
            "23            0.200000        12.000000           Positive      0.600000  \n",
            "24           -0.004630         0.340792           Negative      0.736111  \n"
          ]
        }
      ]
    },
    {
      "cell_type": "code",
      "source": [
        "import nltk\n",
        "import spacy\n",
        "import pandas as pd\n",
        "from nltk.corpus import stopwords\n",
        "from nltk.tokenize import word_tokenize\n",
        "\n",
        "# Ensure necessary NLTK data is downloaded\n",
        "nltk.download('punkt')\n",
        "nltk.download('stopwords')\n",
        "\n",
        "# Load spaCy English model\n",
        "nlp = spacy.load(\"en_core_web_sm\")\n",
        "\n",
        "# Define a function to preprocess text\n",
        "def preprocess_text(text):\n",
        "    tokens = word_tokenize(text.lower())\n",
        "    custom_stop_words = set(stopwords.words('english')) - {'above', 'below', 'not', 'against', 'up', 'down', 'in', 'out', 'on', 'off', 'over', 'under'}\n",
        "    filtered_tokens = [word for word in tokens if word not in custom_stop_words]\n",
        "    lemmatized_tokens = [token.lemma_ for token in nlp(' '.join(filtered_tokens))]\n",
        "    return ' '.join(lemmatized_tokens)\n",
        "\n",
        "# Correct path to the data file\n",
        "data_path = '/content/large_clinical_validation_textual_dataset.xlsx'\n",
        "\n",
        "# Read the data into a pandas DataFrame\n",
        "data = pd.read_excel(data_path)\n",
        "\n",
        "# Apply the preprocessing to the 'Comment' column\n",
        "data['Processed_Comment'] = data['Comment'].apply(preprocess_text)\n",
        "\n",
        "# Verify the preprocessing\n",
        "print(data[['Comment', 'Processed_Comment']].head(10))\n"
      ],
      "metadata": {
        "colab": {
          "base_uri": "https://localhost:8080/"
        },
        "id": "938P1DrwCpiT",
        "outputId": "29496de2-4374-4949-d09c-2ca375bb3843"
      },
      "execution_count": 8,
      "outputs": [
        {
          "output_type": "stream",
          "name": "stderr",
          "text": [
            "[nltk_data] Downloading package punkt to /root/nltk_data...\n",
            "[nltk_data]   Package punkt is already up-to-date!\n",
            "[nltk_data] Downloading package stopwords to /root/nltk_data...\n",
            "[nltk_data]   Package stopwords is already up-to-date!\n",
            "/usr/local/lib/python3.10/dist-packages/spacy/util.py:1740: UserWarning: [W111] Jupyter notebook detected: if using `prefer_gpu()` or `require_gpu()`, include it in the same cell right before `spacy.load()` to ensure that the model is loaded on the correct device. More information: http://spacy.io/usage/v3#jupyter-notebook-gpu\n",
            "  warnings.warn(Warnings.W111)\n"
          ]
        },
        {
          "output_type": "stream",
          "name": "stdout",
          "text": [
            "                                                                                                                                                                                                                                       Comment  \\\n",
            "0  Ever since I found out I'm deficient in Vitamin D during my first trimester, I've made it a point to walk in the park every morning. It's not just about the vitamin; it's my time to connect with nature and reflect on the journey ahead.   \n",
            "1                                    My nutritionist introduced me to a variety of Vitamin D-rich foods that I had never considered before. Incorporating mushrooms and fortified orange juice into my diet has been an interesting adventure.   \n",
            "2            I was skeptical about taking supplements, but my doctor explained the importance of maintaining optimal Vitamin D levels for both my health and the baby's development. I've noticed a positive change in my energy levels since.   \n",
            "3                                  Reading about the potential link between Vitamin D deficiency and gestational diabetes made me more vigilant about my intake. I've started including more dairy products and fatty fish in my weekly meals.   \n",
            "4                                               The winter season has always been tough for me to get enough sunlight. Investing in a UV lamp on my doctor's recommendation has made a significant difference in my mood and Vitamin D levels.   \n",
            "5                                                  As someone who wears full-cover clothing, I've had to find alternative ways to ensure I get enough Vitamin D. Supplements and Vitamin D-rich foods have become staples in my daily routine.   \n",
            "6                                          Joining a prenatal yoga class that's held outdoors has been a game-changer for me. It's not just about staying active; it's about soaking up the sun and ensuring I get my daily dose of Vitamin D.   \n",
            "7                                   My partner and I have started planning our meals together, focusing on incorporating Vitamin D-rich ingredients. It's become a fun activity that not only benefits my pregnancy but also our relationship.   \n",
            "8                After experiencing mood swings, my doctor suggested monitoring my Vitamin D levels. I was surprised to learn about its impact on mental health during pregnancy. I feel more balanced after making the necessary adjustments.   \n",
            "9                          I've always been proactive about my health, but pregnancy has made me even more so. Learning about the importance of Vitamin D for fetal bone development has led me to adjust my diet and lifestyle significantly.   \n",
            "\n",
            "                                                                                                                                                                Processed_Comment  \n",
            "0  ever since find out ' m deficient in vitamin first trimester , ' ve make point walk in park every morning . be not vitamin ; 's time connect nature reflect on journey ahead .  \n",
            "1                                    nutritionist introduce variety vitamin d - rich food never consider . incorporate mushroom fortify orange juice diet interesting adventure .  \n",
            "2         skeptical taking supplement , doctor explain importance maintain optimal vitamin level health baby 's development . ' ve notice positive change in energy level since .  \n",
            "3                                  read potential link vitamin deficiency gestational diabete make vigilant intake . ' ve start include dairy product fatty fish in weekly meal .  \n",
            "4                              winter season always tough get enough sunlight . invest in uv lamp on doctor 's recommendation make significant difference in mood vitamin level .  \n",
            "5                   someone wear full - cover clothing , ' ve find alternative way ensure get enough vitamin d. supplement vitamin d - rich food become staple in daily routine .  \n",
            "6                                                  join prenatal yoga class 's hold outdoors game - changer . be not stay active ; be soak up sun ensure get daily dose vitamin .  \n",
            "7                          partner start plan meal together , focus on incorporate vitamin d - rich ingredient . be become fun activity not benefit pregnancy also relationship .  \n",
            "8                    experience mood swing , doctor suggest monitor vitamin level . surprised learn impact on mental health pregnancy . feel balanced make necessary adjustment .  \n",
            "9                                 ' ve always proactive health , pregnancy make even . learn importance vitamin fetal bone development lead adjust diet lifestyle significantly .  \n"
          ]
        }
      ]
    },
    {
      "cell_type": "code",
      "source": [],
      "metadata": {
        "id": "iwHBB4h8lS-q"
      },
      "execution_count": 8,
      "outputs": []
    }
  ]
}