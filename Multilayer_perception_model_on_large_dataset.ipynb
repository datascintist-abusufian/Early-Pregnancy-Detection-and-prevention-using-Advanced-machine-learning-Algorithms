{
  "cells": [
    {
      "cell_type": "code",
      "execution_count": 52,
      "metadata": {
        "id": "EedOmoOHed94"
      },
      "outputs": [],
      "source": [
        "import pandas as pd"
      ]
    },
    {
      "cell_type": "code",
      "execution_count": 53,
      "metadata": {
        "colab": {
          "base_uri": "https://localhost:8080/"
        },
        "id": "Mi0s--ula9Cc",
        "outputId": "cd719a63-d9b3-4343-8d98-617bbca02899"
      },
      "outputs": [
        {
          "output_type": "execute_result",
          "data": {
            "text/plain": [
              "Index(['ID', 'Age', 'Residence', 'Education Status', 'Occupation',\n",
              "       'Socioeconomic status', 'BMI', 'Systolic blood Pressure',\n",
              "       'Diastolic blood pressure', 'Gestational age (weeks)', 'Parity',\n",
              "       'Dressing style', 'Sunlight exposure', 'Dairy productis consumption',\n",
              "       'Multivitamin use', 'Season', 'Vitamin D status (ng/mL)',\n",
              "       'Pregnancy loss', 'History of Pregnancy Loss',\n",
              "       'Underlying Health Conditions', 'Physical Activity Level',\n",
              "       'Dietary Habits', 'Family History of Pregnancy Complications',\n",
              "       'Stress Level', 'Sleep Patterns', 'Exposure to Environmental Toxins'],\n",
              "      dtype='object')"
            ]
          },
          "metadata": {},
          "execution_count": 53
        }
      ],
      "source": [
        "import pandas as pd\n",
        "\n",
        "# Correcting the function name and file path\n",
        "df = pd.read_csv('/content/large_dataset_Diagnosis.csv')\n",
        "\n",
        "# Displaying the first few rows of the dataframe\n",
        "df.columns\n"
      ]
    },
    {
      "cell_type": "code",
      "execution_count": 54,
      "metadata": {
        "colab": {
          "base_uri": "https://localhost:8080/"
        },
        "id": "w92wbjtrf6Ln",
        "outputId": "dee7f8ce-087a-409f-e720-8905b6e6f9d9"
      },
      "outputs": [
        {
          "output_type": "stream",
          "name": "stdout",
          "text": [
            "Requirement already satisfied: scikit-learn in /usr/local/lib/python3.10/dist-packages (1.4.1.post1)\n",
            "Requirement already satisfied: numpy<2.0,>=1.19.5 in /usr/local/lib/python3.10/dist-packages (from scikit-learn) (1.25.2)\n",
            "Requirement already satisfied: scipy>=1.6.0 in /usr/local/lib/python3.10/dist-packages (from scikit-learn) (1.11.4)\n",
            "Requirement already satisfied: joblib>=1.2.0 in /usr/local/lib/python3.10/dist-packages (from scikit-learn) (1.3.2)\n",
            "Requirement already satisfied: threadpoolctl>=2.0.0 in /usr/local/lib/python3.10/dist-packages (from scikit-learn) (3.3.0)\n"
          ]
        }
      ],
      "source": [
        "pip install -U scikit-learn\n"
      ]
    },
    {
      "cell_type": "code",
      "source": [
        "import sklearn\n",
        "print(sklearn.__version__)"
      ],
      "metadata": {
        "colab": {
          "base_uri": "https://localhost:8080/"
        },
        "id": "3m2LexMhj-4D",
        "outputId": "7bcb3568-d388-479d-a2bc-06a970c99eb7"
      },
      "execution_count": 55,
      "outputs": [
        {
          "output_type": "stream",
          "name": "stdout",
          "text": [
            "1.4.1.post1\n"
          ]
        }
      ]
    },
    {
      "cell_type": "code",
      "source": [
        "print(df.dtypes)"
      ],
      "metadata": {
        "colab": {
          "base_uri": "https://localhost:8080/"
        },
        "id": "1vq_zRsIly1K",
        "outputId": "f0cc88fa-eb48-48cc-f432-6d3361eb9692"
      },
      "execution_count": 56,
      "outputs": [
        {
          "output_type": "stream",
          "name": "stdout",
          "text": [
            "ID                                             int64\n",
            "Age                                            int64\n",
            "Residence                                     object\n",
            "Education Status                              object\n",
            "Occupation                                    object\n",
            "Socioeconomic status                          object\n",
            "BMI                                          float64\n",
            "Systolic blood Pressure                      float64\n",
            "Diastolic blood pressure                     float64\n",
            "Gestational age (weeks)                        int64\n",
            "Parity                                        object\n",
            "Dressing style                                object\n",
            "Sunlight exposure                             object\n",
            "Dairy productis consumption                   object\n",
            "Multivitamin use                              object\n",
            "Season                                        object\n",
            "Vitamin D status (ng/mL)                      object\n",
            "Pregnancy loss                                object\n",
            "History of Pregnancy Loss                     object\n",
            "Underlying Health Conditions                  object\n",
            "Physical Activity Level                       object\n",
            "Dietary Habits                                object\n",
            "Family History of Pregnancy Complications     object\n",
            "Stress Level                                  object\n",
            "Sleep Patterns                                object\n",
            "Exposure to Environmental Toxins              object\n",
            "dtype: object\n"
          ]
        }
      ]
    },
    {
      "cell_type": "code",
      "execution_count": 62,
      "metadata": {
        "colab": {
          "base_uri": "https://localhost:8080/",
          "height": 686
        },
        "id": "eABQvRzCekp5",
        "outputId": "44d7269b-e5e8-4478-95f1-a612412004c8"
      },
      "outputs": [
        {
          "output_type": "stream",
          "name": "stdout",
          "text": [
            "Accuracy: 0.7980\n",
            "Classification Report:\n",
            "              precision    recall  f1-score   support\n",
            "\n",
            "           0       0.80      1.00      0.89       798\n",
            "           1       0.00      0.00      0.00       202\n",
            "\n",
            "    accuracy                           0.80      1000\n",
            "   macro avg       0.40      0.50      0.44      1000\n",
            "weighted avg       0.64      0.80      0.71      1000\n",
            "\n"
          ]
        },
        {
          "output_type": "display_data",
          "data": {
            "text/plain": [
              "<Figure size 640x480 with 2 Axes>"
            ],
            "image/png": "[encoded data removed]"
          },
          "metadata": {}
        },
        {
          "output_type": "display_data",
          "data": {
            "text/plain": [
              "<Figure size 600x400 with 0 Axes>"
            ]
          },
          "metadata": {}
        }
      ],
      "source": [
        "import pandas as pd\n",
        "from sklearn.model_selection import train_test_split\n",
        "from sklearn.preprocessing import StandardScaler, OneHotEncoder\n",
        "from sklearn.compose import ColumnTransformer\n",
        "from sklearn.pipeline import Pipeline\n",
        "from sklearn.neural_network import MLPClassifier\n",
        "from sklearn.metrics import accuracy_score, confusion_matrix, classification_report\n",
        "from sklearn.metrics import ConfusionMatrixDisplay\n",
        "import matplotlib.pyplot as plt\n",
        "import warnings\n",
        "\n",
        "# Ignore all warning messages\n",
        "warnings.filterwarnings('ignore')\n",
        "\n",
        "# Load your dataset\n",
        "df = pd.read_csv('/content/large_dataset_Diagnosis.csv')\n",
        "\n",
        "# Separate features and target, mapping 'Yes' to 1 and 'No' to 0 for 'Pregnancy loss'\n",
        "X = df.drop(['Pregnancy loss'], axis=1)\n",
        "y = df['Pregnancy loss'].map({'Yes': 1, 'No': 0})\n",
        "\n",
        "# Identifying categorical and numerical columns\n",
        "categorical_cols = [cname for cname in X.columns if X[cname].dtype == \"object\"]\n",
        "numerical_cols = [cname for cname in X.columns if X[cname].dtype in ['int64', 'float64']]\n",
        "\n",
        "# Preprocessing for numerical and categorical data\n",
        "numerical_transformer = StandardScaler()\n",
        "categorical_transformer = OneHotEncoder(handle_unknown='ignore')\n",
        "\n",
        "preprocessor = ColumnTransformer(\n",
        "    transformers=[\n",
        "        ('num', numerical_transformer, numerical_cols),\n",
        "        ('cat', categorical_transformer, categorical_cols)\n",
        "    ])\n",
        "\n",
        "# Defining the MLPClassifier model within a pipeline\n",
        "layer_sizes = (120, 100, 90, 80, 70, 60, 50, 40, 30, 25, 20, 15, 10, 5, 3,1)\n",
        "\n",
        "clf = Pipeline(steps=[('preprocessor', preprocessor),\n",
        "                      ('model', MLPClassifier(hidden_layer_sizes=layer_sizes,\n",
        "                                              max_iter=300,\n",
        "                                              activation='relu',\n",
        "                                              solver='adam',\n",
        "                                              random_state=42))])\n",
        "\n",
        "# Splitting the dataset\n",
        "X_train, X_test, y_train, y_test = train_test_split(X, y, test_size=0.1, random_state=42)\n",
        "\n",
        "# Training the model\n",
        "clf.fit(X_train, y_train)\n",
        "\n",
        "# Making predictions with the model\n",
        "preds = clf.predict(X_test)\n",
        "\n",
        "# Evaluating the model\n",
        "accuracy = accuracy_score(y_test, preds)\n",
        "print(f\"Accuracy: {accuracy:.4f}\")\n",
        "\n",
        "# Displaying a classification report\n",
        "print(\"Classification Report:\")\n",
        "print(classification_report(y_test, preds))\n",
        "\n",
        "# Generating and displaying a confusion matrix\n",
        "cm = confusion_matrix(y_test, preds)\n",
        "disp = ConfusionMatrixDisplay(confusion_matrix=cm)\n",
        "disp.plot(cmap=plt.cm.plasma)\n",
        "plt.title('Confusion Matrix')\n",
        "plt.figure(figsize=(6,4))\n",
        "plt.show()\n",
        "\n",
        "\n",
        "\n"
      ]
    },
    {
      "cell_type": "code",
      "source": [
        "!pip install scikit-optimize\n"
      ],
      "metadata": {
        "colab": {
          "base_uri": "https://localhost:8080/"
        },
        "id": "PoeiKBqOPXzK",
        "outputId": "4cf065b5-3db0-4ad5-bd81-5ac5a9e2d535"
      },
      "execution_count": 67,
      "outputs": [
        {
          "output_type": "stream",
          "name": "stdout",
          "text": [
            "Collecting scikit-optimize\n",
            "  Downloading scikit_optimize-0.10.1-py2.py3-none-any.whl (107 kB)\n",
            "\u001b[2K     \u001b[90m━━━━━━━━━━━━━━━━━━━━━━━━━━━━━━━━━━━━━━━━\u001b[0m \u001b[32m107.7/107.7 kB\u001b[0m \u001b[31m1.3 MB/s\u001b[0m eta \u001b[36m0:00:00\u001b[0m\n",
            "\u001b[?25hRequirement already satisfied: joblib>=0.11 in /usr/local/lib/python3.10/dist-packages (from scikit-optimize) (1.3.2)\n",
            "Collecting pyaml>=16.9 (from scikit-optimize)\n",
            "  Downloading pyaml-23.12.0-py3-none-any.whl (23 kB)\n",
            "Requirement already satisfied: numpy>=1.20.3 in /usr/local/lib/python3.10/dist-packages (from scikit-optimize) (1.25.2)\n",
            "Requirement already satisfied: scipy>=1.1.0 in /usr/local/lib/python3.10/dist-packages (from scikit-optimize) (1.11.4)\n",
            "Requirement already satisfied: scikit-learn>=1.0.0 in /usr/local/lib/python3.10/dist-packages (from scikit-optimize) (1.4.1.post1)\n",
            "Requirement already satisfied: packaging>=21.3 in /usr/local/lib/python3.10/dist-packages (from scikit-optimize) (24.0)\n",
            "Requirement already satisfied: PyYAML in /usr/local/lib/python3.10/dist-packages (from pyaml>=16.9->scikit-optimize) (6.0.1)\n",
            "Requirement already satisfied: threadpoolctl>=2.0.0 in /usr/local/lib/python3.10/dist-packages (from scikit-learn>=1.0.0->scikit-optimize) (3.3.0)\n",
            "Installing collected packages: pyaml, scikit-optimize\n",
            "Successfully installed pyaml-23.12.0 scikit-optimize-0.10.1\n"
          ]
        }
      ]
    },
    {
      "cell_type": "code",
      "source": [
        "from sklearn.model_selection import RandomizedSearchCV\n",
        "from scipy.stats import randint as sp_randint\n",
        "\n",
        "# Define parameter space\n",
        "param_dist = {\n",
        "    'model__hidden_layer_sizes': [(50,), (100,), (100, 50), (100, 75, 50)],\n",
        "    'model__alpha': [0.0001, 0.001, 0.01, 0.1],\n",
        "}\n",
        "\n",
        "# Random search for hyperparameter optimization\n",
        "random_search = RandomizedSearchCV(clf, param_distributions=param_dist, n_iter=10, cv=3, verbose=2, random_state=42)\n",
        "\n",
        "# Execute search\n",
        "random_search.fit(X_train, y_train)\n",
        "\n",
        "# Best parameters\n",
        "print(\"Best Parameters:\", random_search.best_params_)\n",
        "\n",
        "# Evaluating the best model\n",
        "best_model = random_search.best_estimator_\n",
        "preds = best_model.predict(X_test)\n",
        "accuracy = accuracy_score(y_test, preds)\n",
        "print(f\"Accuracy: {accuracy:.4f}\")\n"
      ],
      "metadata": {
        "colab": {
          "base_uri": "https://localhost:8080/"
        },
        "id": "eHLzEGd2OaeW",
        "outputId": "9794120b-2f4c-4255-e21f-948be812a090"
      },
      "execution_count": 66,
      "outputs": [
        {
          "output_type": "stream",
          "name": "stdout",
          "text": [
            "Fitting 3 folds for each of 10 candidates, totalling 30 fits\n",
            "[CV] END model__alpha=0.0001, model__hidden_layer_sizes=(50,); total time=   1.1s\n",
            "[CV] END model__alpha=0.0001, model__hidden_layer_sizes=(50,); total time=   1.0s\n",
            "[CV] END model__alpha=0.0001, model__hidden_layer_sizes=(50,); total time=   0.9s\n",
            "[CV] END model__alpha=0.0001, model__hidden_layer_sizes=(100,); total time=   1.1s\n",
            "[CV] END model__alpha=0.0001, model__hidden_layer_sizes=(100,); total time=   1.2s\n",
            "[CV] END model__alpha=0.0001, model__hidden_layer_sizes=(100,); total time=   1.0s\n",
            "[CV] END model__alpha=0.001, model__hidden_layer_sizes=(100,); total time=   1.1s\n",
            "[CV] END model__alpha=0.001, model__hidden_layer_sizes=(100,); total time=   1.0s\n",
            "[CV] END model__alpha=0.001, model__hidden_layer_sizes=(100,); total time=   1.2s\n",
            "[CV] END model__alpha=0.1, model__hidden_layer_sizes=(100, 50); total time=   2.3s\n",
            "[CV] END model__alpha=0.1, model__hidden_layer_sizes=(100, 50); total time=   2.2s\n",
            "[CV] END model__alpha=0.1, model__hidden_layer_sizes=(100, 50); total time=   1.9s\n",
            "[CV] END .model__alpha=0.1, model__hidden_layer_sizes=(100,); total time=   1.2s\n",
            "[CV] END .model__alpha=0.1, model__hidden_layer_sizes=(100,); total time=   1.5s\n",
            "[CV] END .model__alpha=0.1, model__hidden_layer_sizes=(100,); total time=   0.5s\n",
            "[CV] END model__alpha=0.01, model__hidden_layer_sizes=(100, 75, 50); total time=   0.9s\n",
            "[CV] END model__alpha=0.01, model__hidden_layer_sizes=(100, 75, 50); total time=   0.9s\n",
            "[CV] END model__alpha=0.01, model__hidden_layer_sizes=(100, 75, 50); total time=   0.9s\n",
            "[CV] END .model__alpha=0.01, model__hidden_layer_sizes=(50,); total time=   0.7s\n",
            "[CV] END .model__alpha=0.01, model__hidden_layer_sizes=(50,); total time=   0.8s\n",
            "[CV] END .model__alpha=0.01, model__hidden_layer_sizes=(50,); total time=   0.9s\n",
            "[CV] END model__alpha=0.01, model__hidden_layer_sizes=(100,); total time=   0.9s\n",
            "[CV] END model__alpha=0.01, model__hidden_layer_sizes=(100,); total time=   0.5s\n",
            "[CV] END model__alpha=0.01, model__hidden_layer_sizes=(100,); total time=   0.5s\n",
            "[CV] END model__alpha=0.0001, model__hidden_layer_sizes=(100, 50); total time=   0.7s\n",
            "[CV] END model__alpha=0.0001, model__hidden_layer_sizes=(100, 50); total time=   0.7s\n",
            "[CV] END model__alpha=0.0001, model__hidden_layer_sizes=(100, 50); total time=   0.7s\n",
            "[CV] END model__alpha=0.1, model__hidden_layer_sizes=(100, 75, 50); total time=   0.9s\n",
            "[CV] END model__alpha=0.1, model__hidden_layer_sizes=(100, 75, 50); total time=   0.9s\n",
            "[CV] END model__alpha=0.1, model__hidden_layer_sizes=(100, 75, 50); total time=   0.9s\n",
            "Best Parameters: {'model__hidden_layer_sizes': (50,), 'model__alpha': 0.0001}\n",
            "Accuracy: 0.7933\n"
          ]
        }
      ]
    },
    {
      "cell_type": "code",
      "source": [
        "# Simplified space focusing on alpha only\n",
        "space = [Real(1e-6, 1e-1, name='mlpclassifier__alpha')]\n",
        "\n",
        "@use_named_args(space)\n",
        "def simplified_objective(**params):\n",
        "    clf.set_params(**params)\n",
        "    clf.fit(X_train, y_train)\n",
        "    return -clf.score(X_test, y_test)\n",
        "\n",
        "# Simplified optimization\n",
        "res_gp_simple = gp_minimize(simplified_objective, space, n_calls=10, random_state=0)\n",
        "\n",
        "print(\"Best parameters:\", res_gp_simple.x)\n",
        "print(\"Best accuracy:\", -res_gp_simple.fun)\n"
      ],
      "metadata": {
        "colab": {
          "base_uri": "https://localhost:8080/"
        },
        "id": "FCJiw5nUPgxF",
        "outputId": "2e5eeee8-661e-42ff-ddb6-c7e0c76173cc"
      },
      "execution_count": 72,
      "outputs": [
        {
          "output_type": "stream",
          "name": "stdout",
          "text": [
            "Best parameters: [0.08579470381665809]\n",
            "Best accuracy: 0.7025\n"
          ]
        }
      ]
    },
    {
      "cell_type": "code",
      "source": [
        "import pandas as pd\n",
        "from sklearn.model_selection import train_test_split\n",
        "from sklearn.preprocessing import StandardScaler, OneHotEncoder\n",
        "from sklearn.compose import ColumnTransformer\n",
        "from sklearn.pipeline import Pipeline\n",
        "from sklearn.neural_network import MLPClassifier\n",
        "from sklearn.metrics import accuracy_score, log_loss\n",
        "import matplotlib.pyplot as plt\n",
        "import warnings\n",
        "\n",
        "# Ignore all warning messages\n",
        "warnings.filterwarnings('ignore')\n",
        "\n",
        "# Load your dataset\n",
        "df = pd.read_csv('/content/large_dataset_Diagnosis.csv')\n",
        "\n",
        "# Separate features and target, mapping 'Yes' to 1 and 'No' to 0 for 'Pregnancy loss'\n",
        "X = df.drop(['Pregnancy loss'], axis=1)\n",
        "y = df['Pregnancy loss'].map({'Yes': 1, 'No': 0})\n",
        "\n",
        "# Identifying categorical and numerical columns\n",
        "categorical_cols = [cname for cname in X.columns if X[cname].dtype == \"object\"]\n",
        "numerical_cols = [cname for cname in X.columns if X[cname].dtype in ['int64', 'float64']]\n",
        "\n",
        "# Preprocessing for numerical and categorical data\n",
        "numerical_transformer = StandardScaler()\n",
        "categorical_transformer = OneHotEncoder(handle_unknown='ignore')\n",
        "\n",
        "preprocessor = ColumnTransformer(\n",
        "    transformers=[\n",
        "        ('num', numerical_transformer, numerical_cols),\n",
        "        ('cat', categorical_transformer, categorical_cols)\n",
        "    ])\n",
        "\n",
        "# Initialize the model with warm_start=True to allow incremental learning\n",
        "model = MLPClassifier(hidden_layer_sizes=(100,),\n",
        "                      max_iter=1, warm_start=True, activation='relu', solver='adam', random_state=42)\n",
        "\n",
        "clf = Pipeline(steps=[('preprocessor', preprocessor),\n",
        "                      ('model', model)])\n",
        "\n",
        "# Splitting the dataset\n",
        "X_train, X_test, y_train, y_test = train_test_split(X, y, test_size=0.2, random_state=42)\n",
        "\n",
        "train_losses = []\n",
        "test_losses = []\n",
        "train_accuracies = []\n",
        "test_accuracies = []\n",
        "\n",
        "# Manually iterate through epochs\n",
        "for epoch in range(300):\n",
        "    clf.fit(X_train, y_train)\n",
        "\n",
        "    # Predict on training and test set\n",
        "    y_train_pred_proba = clf.predict_proba(X_train)\n",
        "    y_test_pred_proba = clf.predict_proba(X_test)\n",
        "\n",
        "    # Calculate loss\n",
        "    train_loss = log_loss(y_train, y_train_pred_proba)\n",
        "    test_loss = log_loss(y_test, y_test_pred_proba)\n",
        "\n",
        "    # Calculate accuracy\n",
        "    train_accuracy = accuracy_score(y_train, clf.predict(X_train))\n",
        "    test_accuracy = accuracy_score(y_test, clf.predict(X_test))\n",
        "\n",
        "    # Append to lists\n",
        "    train_losses.append(train_loss)\n",
        "    test_losses.append(test_loss)\n",
        "    train_accuracies.append(train_accuracy)\n",
        "    test_accuracies.append(test_accuracy)\n",
        "\n",
        "# Plotting training and validation loss\n",
        "plt.figure(figsize=(6, 4))\n",
        "\n",
        "plt.subplot(1, 2, 1)\n",
        "plt.plot(train_losses, label='Train Loss')\n",
        "plt.plot(test_losses, label='Validation Loss')\n",
        "plt.title('Loss over Epochs')\n",
        "plt.xlabel('Epoch')\n",
        "plt.ylabel('Log Loss')\n",
        "plt.legend()\n",
        "\n",
        "# Plotting training and validation accuracy\n",
        "plt.subplot(1, 2, 2)\n",
        "plt.plot(train_accuracies, label='Train Accuracy')\n",
        "plt.plot(test_accuracies, label='Validation Accuracy')\n",
        "plt.title('Accuracy over Epochs')\n",
        "plt.xlabel('Epoch')\n",
        "plt.ylabel('Accuracy')\n",
        "plt.legend()\n",
        "\n",
        "plt.tight_layout()\n",
        "plt.show()\n"
      ],
      "metadata": {
        "colab": {
          "base_uri": "https://localhost:8080/",
          "height": 407
        },
        "id": "fFRZOl37uFpz",
        "outputId": "00c7d5d7-5cb5-42ef-8b0d-f4ff17f3e8c3"
      },
      "execution_count": 58,
      "outputs": [
        {
          "output_type": "display_data",
          "data": {
            "text/plain": [
              "<Figure size 600x400 with 2 Axes>"
            ],
            "image/png": "[encoded data removed]"
          },
          "metadata": {}
        }
      ]
    },
    {
      "cell_type": "code",
      "source": [],
      "metadata": {
        "id": "RFgO82i286L_"
      },
      "execution_count": 58,
      "outputs": []
    }
  ],
  "metadata": {
    "colab": {
      "provenance": []
    },
    "kernelspec": {
      "display_name": "Python 3",
      "name": "python3"
    },
    "language_info": {
      "name": "python"
    }
  },
  "nbformat": 4,
  "nbformat_minor": 0
}