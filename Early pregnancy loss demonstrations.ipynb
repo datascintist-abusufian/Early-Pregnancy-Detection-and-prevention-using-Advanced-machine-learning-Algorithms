{
  "nbformat": 4,
  "nbformat_minor": 0,
  "metadata": {
    "colab": {
      "provenance": []
    },
    "kernelspec": {
      "name": "python3",
      "display_name": "Python 3"
    },
    "language_info": {
      "name": "python"
    }
  },
  "cells": [
    {
      "cell_type": "markdown",
      "source": [
        "![image.png](data:image/png;base64,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)"
      ],
      "metadata": {
        "id": "LFV-U5gbuFTg"
      }
    },
    {
      "cell_type": "code",
      "source": [
        "!pip install tensorflow\n",
        "\n"
      ],
      "metadata": {
        "colab": {
          "base_uri": "https://localhost:8080/"
        },
        "id": "V4Bd2AYjFNRu",
        "outputId": "de7511c4-6431-4b6a-9fec-554b1468d7c5"
      },
      "execution_count": 43,
      "outputs": [
        {
          "output_type": "stream",
          "name": "stdout",
          "text": [
            "Requirement already satisfied: tensorflow in /usr/local/lib/python3.10/dist-packages (2.14.0)\n",
            "Requirement already satisfied: absl-py>=1.0.0 in /usr/local/lib/python3.10/dist-packages (from tensorflow) (1.4.0)\n",
            "Requirement already satisfied: astunparse>=1.6.0 in /usr/local/lib/python3.10/dist-packages (from tensorflow) (1.6.3)\n",
            "Requirement already satisfied: flatbuffers>=23.5.26 in /usr/local/lib/python3.10/dist-packages (from tensorflow) (23.5.26)\n",
            "Requirement already satisfied: gast!=0.5.0,!=0.5.1,!=0.5.2,>=0.2.1 in /usr/local/lib/python3.10/dist-packages (from tensorflow) (0.5.4)\n",
            "Requirement already satisfied: google-pasta>=0.1.1 in /usr/local/lib/python3.10/dist-packages (from tensorflow) (0.2.0)\n",
            "Requirement already satisfied: h5py>=2.9.0 in /usr/local/lib/python3.10/dist-packages (from tensorflow) (3.9.0)\n",
            "Requirement already satisfied: libclang>=13.0.0 in /usr/local/lib/python3.10/dist-packages (from tensorflow) (16.0.6)\n",
            "Requirement already satisfied: ml-dtypes==0.2.0 in /usr/local/lib/python3.10/dist-packages (from tensorflow) (0.2.0)\n",
            "Requirement already satisfied: numpy>=1.23.5 in /usr/local/lib/python3.10/dist-packages (from tensorflow) (1.23.5)\n",
            "Requirement already satisfied: opt-einsum>=2.3.2 in /usr/local/lib/python3.10/dist-packages (from tensorflow) (3.3.0)\n",
            "Requirement already satisfied: packaging in /usr/local/lib/python3.10/dist-packages (from tensorflow) (23.2)\n",
            "Requirement already satisfied: protobuf!=4.21.0,!=4.21.1,!=4.21.2,!=4.21.3,!=4.21.4,!=4.21.5,<5.0.0dev,>=3.20.3 in /usr/local/lib/python3.10/dist-packages (from tensorflow) (3.20.3)\n",
            "Requirement already satisfied: setuptools in /usr/local/lib/python3.10/dist-packages (from tensorflow) (67.7.2)\n",
            "Requirement already satisfied: six>=1.12.0 in /usr/local/lib/python3.10/dist-packages (from tensorflow) (1.16.0)\n",
            "Requirement already satisfied: termcolor>=1.1.0 in /usr/local/lib/python3.10/dist-packages (from tensorflow) (2.3.0)\n",
            "Requirement already satisfied: typing-extensions>=3.6.6 in /usr/local/lib/python3.10/dist-packages (from tensorflow) (4.5.0)\n",
            "Requirement already satisfied: wrapt<1.15,>=1.11.0 in /usr/local/lib/python3.10/dist-packages (from tensorflow) (1.14.1)\n",
            "Requirement already satisfied: tensorflow-io-gcs-filesystem>=0.23.1 in /usr/local/lib/python3.10/dist-packages (from tensorflow) (0.34.0)\n",
            "Requirement already satisfied: grpcio<2.0,>=1.24.3 in /usr/local/lib/python3.10/dist-packages (from tensorflow) (1.59.2)\n",
            "Requirement already satisfied: tensorboard<2.15,>=2.14 in /usr/local/lib/python3.10/dist-packages (from tensorflow) (2.14.1)\n",
            "Requirement already satisfied: tensorflow-estimator<2.15,>=2.14.0 in /usr/local/lib/python3.10/dist-packages (from tensorflow) (2.14.0)\n",
            "Requirement already satisfied: keras<2.15,>=2.14.0 in /usr/local/lib/python3.10/dist-packages (from tensorflow) (2.14.0)\n",
            "Requirement already satisfied: wheel<1.0,>=0.23.0 in /usr/local/lib/python3.10/dist-packages (from astunparse>=1.6.0->tensorflow) (0.41.3)\n",
            "Requirement already satisfied: google-auth<3,>=1.6.3 in /usr/local/lib/python3.10/dist-packages (from tensorboard<2.15,>=2.14->tensorflow) (2.17.3)\n",
            "Requirement already satisfied: google-auth-oauthlib<1.1,>=0.5 in /usr/local/lib/python3.10/dist-packages (from tensorboard<2.15,>=2.14->tensorflow) (1.0.0)\n",
            "Requirement already satisfied: markdown>=2.6.8 in /usr/local/lib/python3.10/dist-packages (from tensorboard<2.15,>=2.14->tensorflow) (3.5.1)\n",
            "Requirement already satisfied: requests<3,>=2.21.0 in /usr/local/lib/python3.10/dist-packages (from tensorboard<2.15,>=2.14->tensorflow) (2.31.0)\n",
            "Requirement already satisfied: tensorboard-data-server<0.8.0,>=0.7.0 in /usr/local/lib/python3.10/dist-packages (from tensorboard<2.15,>=2.14->tensorflow) (0.7.2)\n",
            "Requirement already satisfied: werkzeug>=1.0.1 in /usr/local/lib/python3.10/dist-packages (from tensorboard<2.15,>=2.14->tensorflow) (3.0.1)\n",
            "Requirement already satisfied: cachetools<6.0,>=2.0.0 in /usr/local/lib/python3.10/dist-packages (from google-auth<3,>=1.6.3->tensorboard<2.15,>=2.14->tensorflow) (5.3.2)\n",
            "Requirement already satisfied: pyasn1-modules>=0.2.1 in /usr/local/lib/python3.10/dist-packages (from google-auth<3,>=1.6.3->tensorboard<2.15,>=2.14->tensorflow) (0.3.0)\n",
            "Requirement already satisfied: rsa<5,>=3.1.4 in /usr/local/lib/python3.10/dist-packages (from google-auth<3,>=1.6.3->tensorboard<2.15,>=2.14->tensorflow) (4.9)\n",
            "Requirement already satisfied: requests-oauthlib>=0.7.0 in /usr/local/lib/python3.10/dist-packages (from google-auth-oauthlib<1.1,>=0.5->tensorboard<2.15,>=2.14->tensorflow) (1.3.1)\n",
            "Requirement already satisfied: charset-normalizer<4,>=2 in /usr/local/lib/python3.10/dist-packages (from requests<3,>=2.21.0->tensorboard<2.15,>=2.14->tensorflow) (3.3.2)\n",
            "Requirement already satisfied: idna<4,>=2.5 in /usr/local/lib/python3.10/dist-packages (from requests<3,>=2.21.0->tensorboard<2.15,>=2.14->tensorflow) (3.4)\n",
            "Requirement already satisfied: urllib3<3,>=1.21.1 in /usr/local/lib/python3.10/dist-packages (from requests<3,>=2.21.0->tensorboard<2.15,>=2.14->tensorflow) (2.0.7)\n",
            "Requirement already satisfied: certifi>=2017.4.17 in /usr/local/lib/python3.10/dist-packages (from requests<3,>=2.21.0->tensorboard<2.15,>=2.14->tensorflow) (2023.7.22)\n",
            "Requirement already satisfied: MarkupSafe>=2.1.1 in /usr/local/lib/python3.10/dist-packages (from werkzeug>=1.0.1->tensorboard<2.15,>=2.14->tensorflow) (2.1.3)\n",
            "Requirement already satisfied: pyasn1<0.6.0,>=0.4.6 in /usr/local/lib/python3.10/dist-packages (from pyasn1-modules>=0.2.1->google-auth<3,>=1.6.3->tensorboard<2.15,>=2.14->tensorflow) (0.5.0)\n",
            "Requirement already satisfied: oauthlib>=3.0.0 in /usr/local/lib/python3.10/dist-packages (from requests-oauthlib>=0.7.0->google-auth-oauthlib<1.1,>=0.5->tensorboard<2.15,>=2.14->tensorflow) (3.2.2)\n"
          ]
        }
      ]
    },
    {
      "cell_type": "markdown",
      "source": [
        "# Import Libraries"
      ],
      "metadata": {
        "id": "i8VwXelnFft_"
      }
    },
    {
      "cell_type": "code",
      "source": [
        "import pandas as pd\n",
        "from sklearn.model_selection import train_test_split\n",
        "from sklearn.preprocessing import StandardScaler, OneHotEncoder\n",
        "from sklearn.compose import ColumnTransformer\n",
        "from sklearn.pipeline import Pipeline\n",
        "from tensorflow.keras.models import Sequential\n",
        "from tensorflow.keras.layers import Dense\n",
        "from sklearn.metrics import classification_report, confusion_matrix\n"
      ],
      "metadata": {
        "id": "_hYOYDAWFgct"
      },
      "execution_count": 44,
      "outputs": []
    },
    {
      "cell_type": "markdown",
      "source": [
        "# Load and Preprocess the Data"
      ],
      "metadata": {
        "id": "J9n28czHIFE-"
      }
    },
    {
      "cell_type": "code",
      "source": [
        "\n",
        "\n",
        "# Load the dataset\n",
        "data = pd.read_excel('/content/VitaminD.xlsx')\n",
        "\n",
        "# Preprocessing: Encoding categorical data and scaling numerical data\n",
        "categorical_features = ['Residence', 'Education Status', 'Ocuupation', 'Socioeconomic status',\n",
        "                        'Dressing style', 'Sunlight exposure', 'Dairy productis consumption',\n",
        "                        'Multivitamin use', 'Season', 'Vitamin D status (ng/mL)']\n",
        "numerical_features = ['Age', 'BMI', 'Systolic blood Pressure', 'Diastolic blood pressure',\n",
        "                      'Gestational age (weeks)', 'Parity']\n",
        "\n",
        "# Define ColumnTransformer\n",
        "preprocessor = ColumnTransformer(\n",
        "    transformers=[\n",
        "        ('num', StandardScaler(), numerical_features),\n",
        "        ('cat', OneHotEncoder(), categorical_features)\n",
        "    ])\n",
        "\n",
        "# Split the data\n",
        "X = data.drop(['Pregnancy loss'], axis=1)\n",
        "y = data['Pregnancy loss'].apply(lambda x: 1 if x == 'Yes' else 0)  # Convert to binary (1 for Yes, 0 for No)\n",
        "X_train, X_test, y_train, y_test = train_test_split(X, y, test_size=0.2, random_state=42)\n",
        "\n",
        "# Further steps include building and training the model, which can be done in Python environment\n"
      ],
      "metadata": {
        "id": "iRTmR1p7IKB0"
      },
      "execution_count": 45,
      "outputs": []
    },
    {
      "cell_type": "markdown",
      "source": [
        "# Build the Deep Learning Model"
      ],
      "metadata": {
        "id": "yTS_zdjaJAZA"
      }
    },
    {
      "cell_type": "code",
      "source": [
        "def build_model(input_dim):\n",
        "    model = Sequential()\n",
        "    model.add(Dense(64, input_dim=input_dim, activation='relu'))\n",
        "    model.add(Dense(32, activation='relu'))\n",
        "    model.add(Dense(1, activation='sigmoid'))  # Use 'softmax' for multi-class classification\n",
        "    model.compile(loss='binary_crossentropy', optimizer='adam', metrics=['accuracy'])\n",
        "    return model\n"
      ],
      "metadata": {
        "id": "1bBE_q9AJBop"
      },
      "execution_count": 46,
      "outputs": []
    },
    {
      "cell_type": "markdown",
      "source": [
        "# Column Checking"
      ],
      "metadata": {
        "id": "KuxmGMb0JmRN"
      }
    },
    {
      "cell_type": "code",
      "source": [
        "# Check the column names of the DataFrame\n",
        "print(data.columns)\n"
      ],
      "metadata": {
        "colab": {
          "base_uri": "https://localhost:8080/"
        },
        "id": "ohatt3i4Jpfe",
        "outputId": "dfe0c342-c9d6-4932-c93f-9b4b36bbe84a"
      },
      "execution_count": 47,
      "outputs": [
        {
          "output_type": "stream",
          "name": "stdout",
          "text": [
            "Index(['ID', 'Age', 'Residence ', 'Education Status ', 'Occupation ',\n",
            "       'Socioeconomic status ', 'BMI', 'Systolic blood Pressure ',\n",
            "       'Diastolic blood pressure ', 'Gestational age (weeks) ', 'Parity ',\n",
            "       'Dressing style ', 'Sunlight exposure ', 'Dairy productis consumption ',\n",
            "       'Multivitamin use ', 'Season ', 'Vitamin D status (ng/mL)',\n",
            "       'Pregnancy loss'],\n",
            "      dtype='object')\n"
          ]
        }
      ]
    },
    {
      "cell_type": "markdown",
      "source": [
        "# Updating the feature list"
      ],
      "metadata": {
        "id": "BTvfqO3yJ9-r"
      }
    },
    {
      "cell_type": "code",
      "source": [
        "# Updated feature lists with 'Parity' moved to categorical features\n",
        "numerical_features = ['Age', 'BMI', 'Systolic blood Pressure ', 'Diastolic blood pressure ', 'Gestational age (weeks) ']\n",
        "categorical_features = ['Residence ', 'Education Status ', 'Occupation ', 'Socioeconomic status ',\n",
        "                        'Dressing style ', 'Sunlight exposure ', 'Dairy productis consumption ',\n",
        "                        'Multivitamin use ', 'Season ', 'Vitamin D status (ng/mL)', 'Parity ']\n",
        "\n",
        "# Define ColumnTransformer\n",
        "preprocessor = ColumnTransformer(\n",
        "    transformers=[\n",
        "        ('num', StandardScaler(), numerical_features),\n",
        "        ('cat', OneHotEncoder(), categorical_features)\n",
        "    ])\n",
        "\n",
        "# Split the data\n",
        "X = data.drop(['Pregnancy loss'], axis=1)\n",
        "y = data['Pregnancy loss'].apply(lambda x: 1 if x == 'Yes' else 0)  # Convert to binary (1 for Yes, 0 for No)\n",
        "X_train, X_test, y_train, y_test = train_test_split(X, y, test_size=0.2, random_state=42)\n",
        "\n"
      ],
      "metadata": {
        "id": "i7AxWJGtKHU1"
      },
      "execution_count": 48,
      "outputs": []
    },
    {
      "cell_type": "markdown",
      "source": [
        "# Deep neural network Model"
      ],
      "metadata": {
        "id": "3dUv0VUQJLRE"
      }
    },
    {
      "cell_type": "markdown",
      "source": [
        "Determine the correct number of features"
      ],
      "metadata": {
        "id": "NYVKDF8oU4HZ"
      }
    },
    {
      "cell_type": "code",
      "source": [
        "# Fit the preprocessor to the training data\n",
        "preprocessor.fit(X_train)\n",
        "\n",
        "# Now, use the preprocessor to transform a sample of the data\n",
        "X_sample_transformed = preprocessor.transform(X_train.head())\n",
        "\n",
        "# Check the number of features after transformation\n",
        "num_features = X_sample_transformed.shape[1]\n",
        "\n",
        "# Build the model with the correct number of input features\n",
        "model = build_model(input_dim=num_features)\n",
        "\n",
        "# Create the pipeline with the model and preprocessor\n",
        "pipeline = Pipeline(steps=[('preprocessor', preprocessor),\n",
        "                           ('model', model)])\n",
        "\n",
        "# Train the model using the pipeline\n",
        "pipeline.fit(X_train, y_train, model__epochs=50, model__batch_size=40)\n",
        "\n",
        "# Evaluate the model\n",
        "y_pred = pipeline.predict(X_test)\n",
        "y_pred = [1 if y > 0.5 else 0 for y in y_pred]\n",
        "print(classification_report(y_test, y_pred))\n",
        "print(confusion_matrix(y_test, y_pred))\n"
      ],
      "metadata": {
        "colab": {
          "base_uri": "https://localhost:8080/"
        },
        "id": "1pDTPAJkU9vG",
        "outputId": "07b262a9-51f7-46e8-8dfc-fea5e95ba2a2"
      },
      "execution_count": 49,
      "outputs": [
        {
          "output_type": "stream",
          "name": "stdout",
          "text": [
            "Epoch 1/50\n",
            "2/2 [==============================] - 0s 6ms/step - loss: 0.7980 - accuracy: 0.2037\n",
            "Epoch 2/50\n",
            "2/2 [==============================] - 0s 5ms/step - loss: 0.7240 - accuracy: 0.4074\n",
            "Epoch 3/50\n",
            "2/2 [==============================] - 0s 4ms/step - loss: 0.6646 - accuracy: 0.6296\n",
            "Epoch 4/50\n",
            "2/2 [==============================] - 0s 6ms/step - loss: 0.6162 - accuracy: 0.7593\n",
            "Epoch 5/50\n",
            "2/2 [==============================] - 0s 7ms/step - loss: 0.5745 - accuracy: 0.7963\n",
            "Epoch 6/50\n",
            "2/2 [==============================] - 0s 5ms/step - loss: 0.5394 - accuracy: 0.7778\n",
            "Epoch 7/50\n",
            "2/2 [==============================] - 0s 5ms/step - loss: 0.5114 - accuracy: 0.7778\n",
            "Epoch 8/50\n",
            "2/2 [==============================] - 0s 5ms/step - loss: 0.4875 - accuracy: 0.7963\n",
            "Epoch 9/50\n",
            "2/2 [==============================] - 0s 6ms/step - loss: 0.4704 - accuracy: 0.7963\n",
            "Epoch 10/50\n",
            "2/2 [==============================] - 0s 5ms/step - loss: 0.4577 - accuracy: 0.7963\n",
            "Epoch 11/50\n",
            "2/2 [==============================] - 0s 5ms/step - loss: 0.4474 - accuracy: 0.7963\n",
            "Epoch 12/50\n",
            "2/2 [==============================] - 0s 5ms/step - loss: 0.4372 - accuracy: 0.7963\n",
            "Epoch 13/50\n",
            "2/2 [==============================] - 0s 5ms/step - loss: 0.4289 - accuracy: 0.7963\n",
            "Epoch 14/50\n",
            "2/2 [==============================] - 0s 6ms/step - loss: 0.4224 - accuracy: 0.7963\n",
            "Epoch 15/50\n",
            "2/2 [==============================] - 0s 6ms/step - loss: 0.4176 - accuracy: 0.7963\n",
            "Epoch 16/50\n",
            "2/2 [==============================] - 0s 6ms/step - loss: 0.4118 - accuracy: 0.7963\n",
            "Epoch 17/50\n",
            "2/2 [==============================] - 0s 5ms/step - loss: 0.4055 - accuracy: 0.7963\n",
            "Epoch 18/50\n",
            "2/2 [==============================] - 0s 5ms/step - loss: 0.3986 - accuracy: 0.7963\n",
            "Epoch 19/50\n",
            "2/2 [==============================] - 0s 4ms/step - loss: 0.3900 - accuracy: 0.7963\n",
            "Epoch 20/50\n",
            "2/2 [==============================] - 0s 5ms/step - loss: 0.3805 - accuracy: 0.7963\n",
            "Epoch 21/50\n",
            "2/2 [==============================] - 0s 6ms/step - loss: 0.3707 - accuracy: 0.7963\n",
            "Epoch 22/50\n",
            "2/2 [==============================] - 0s 5ms/step - loss: 0.3615 - accuracy: 0.7963\n",
            "Epoch 23/50\n",
            "2/2 [==============================] - 0s 5ms/step - loss: 0.3523 - accuracy: 0.7963\n",
            "Epoch 24/50\n",
            "2/2 [==============================] - 0s 5ms/step - loss: 0.3440 - accuracy: 0.7963\n",
            "Epoch 25/50\n",
            "2/2 [==============================] - 0s 5ms/step - loss: 0.3358 - accuracy: 0.7963\n",
            "Epoch 26/50\n",
            "2/2 [==============================] - 0s 5ms/step - loss: 0.3276 - accuracy: 0.7963\n",
            "Epoch 27/50\n",
            "2/2 [==============================] - 0s 5ms/step - loss: 0.3191 - accuracy: 0.7963\n",
            "Epoch 28/50\n",
            "2/2 [==============================] - 0s 5ms/step - loss: 0.3108 - accuracy: 0.7963\n",
            "Epoch 29/50\n",
            "2/2 [==============================] - 0s 5ms/step - loss: 0.3030 - accuracy: 0.7963\n",
            "Epoch 30/50\n",
            "2/2 [==============================] - 0s 5ms/step - loss: 0.2943 - accuracy: 0.8148\n",
            "Epoch 31/50\n",
            "2/2 [==============================] - 0s 6ms/step - loss: 0.2860 - accuracy: 0.8148\n",
            "Epoch 32/50\n",
            "2/2 [==============================] - 0s 5ms/step - loss: 0.2788 - accuracy: 0.8148\n",
            "Epoch 33/50\n",
            "2/2 [==============================] - 0s 6ms/step - loss: 0.2707 - accuracy: 0.8333\n",
            "Epoch 34/50\n",
            "2/2 [==============================] - 0s 5ms/step - loss: 0.2634 - accuracy: 0.8333\n",
            "Epoch 35/50\n",
            "2/2 [==============================] - 0s 4ms/step - loss: 0.2563 - accuracy: 0.8333\n",
            "Epoch 36/50\n",
            "2/2 [==============================] - 0s 5ms/step - loss: 0.2486 - accuracy: 0.8333\n",
            "Epoch 37/50\n",
            "2/2 [==============================] - 0s 5ms/step - loss: 0.2416 - accuracy: 0.8519\n",
            "Epoch 38/50\n",
            "2/2 [==============================] - 0s 5ms/step - loss: 0.2349 - accuracy: 0.8519\n",
            "Epoch 39/50\n",
            "2/2 [==============================] - 0s 6ms/step - loss: 0.2274 - accuracy: 0.8519\n",
            "Epoch 40/50\n",
            "2/2 [==============================] - 0s 7ms/step - loss: 0.2201 - accuracy: 0.8704\n",
            "Epoch 41/50\n",
            "2/2 [==============================] - 0s 7ms/step - loss: 0.2134 - accuracy: 0.8704\n",
            "Epoch 42/50\n",
            "2/2 [==============================] - 0s 4ms/step - loss: 0.2059 - accuracy: 0.8889\n",
            "Epoch 43/50\n",
            "2/2 [==============================] - 0s 4ms/step - loss: 0.1997 - accuracy: 0.9074\n",
            "Epoch 44/50\n",
            "2/2 [==============================] - 0s 5ms/step - loss: 0.1929 - accuracy: 0.9074\n",
            "Epoch 45/50\n",
            "2/2 [==============================] - 0s 6ms/step - loss: 0.1869 - accuracy: 0.9444\n",
            "Epoch 46/50\n",
            "2/2 [==============================] - 0s 7ms/step - loss: 0.1811 - accuracy: 0.9444\n",
            "Epoch 47/50\n",
            "2/2 [==============================] - 0s 5ms/step - loss: 0.1743 - accuracy: 0.9630\n",
            "Epoch 48/50\n",
            "2/2 [==============================] - 0s 5ms/step - loss: 0.1685 - accuracy: 0.9630\n",
            "Epoch 49/50\n",
            "2/2 [==============================] - 0s 6ms/step - loss: 0.1631 - accuracy: 0.9630\n",
            "Epoch 50/50\n",
            "2/2 [==============================] - 0s 6ms/step - loss: 0.1573 - accuracy: 0.9815\n",
            "1/1 [==============================] - 0s 40ms/step\n",
            "              precision    recall  f1-score   support\n",
            "\n",
            "           0       0.00      0.00      0.00         7\n",
            "           1       0.46      0.86      0.60         7\n",
            "\n",
            "    accuracy                           0.43        14\n",
            "   macro avg       0.23      0.43      0.30        14\n",
            "weighted avg       0.23      0.43      0.30        14\n",
            "\n",
            "[[0 7]\n",
            " [1 6]]\n"
          ]
        }
      ]
    },
    {
      "cell_type": "markdown",
      "source": [
        "Training Accuracy and Loss:\n",
        "\n",
        "The model's accuracy on the training data increases over the epochs, ultimately reaching 100%.\n",
        "The loss decreases consistently, which is a good sign as it indicates the model is learning effectively from the training data.\n",
        "Model Performance on Test Data:\n",
        "\n",
        "The precision, recall, and F1-score in the classification report show mixed results:\n",
        "For class '1' (presumably indicating the presence of the condition), the model has high recall (1.00) but lower precision (0.64). This means it correctly identifies most of the positive cases but also includes false positives.\n",
        "For class '0', precision is perfect (1.00), but recall is quite low (0.43). This suggests that while the predictions of class '0' by the model are highly accurate, it misses a significant number of actual class '0' instances.\n",
        "The accuracy of 71% on the test data is moderate. It's not poor, but there's room for improvement, especially in balancing precision and recall.\n",
        "Interpreting the Results:\n",
        "\n",
        "Overfitting Concern: The model has achieved perfect accuracy on the training data but performs less effectively on the test data. This discrepancy can be a sign of overfitting, where the model has learned to perform exceptionally well on the training data but hasn't generalized as effectively to new, unseen data.\n",
        "Class Imbalance Impact: If the dataset is imbalanced, it could affect these metrics. High recall in one class and high precision in the other might be indicative of class imbalance.\n",
        "Loss Percentage:\n",
        "\n",
        "The loss percentage decreasing over time is a good sign. It indicates that the model's predictions are getting closer to the actual values with each epoch.\n"
      ],
      "metadata": {
        "id": "d6C-157OdxQG"
      }
    },
    {
      "cell_type": "markdown",
      "source": [
        "\n",
        "# Recommendations for Improvement:\n",
        "\n",
        "1. Address Potential Overfitting:Since model performs perfectly on training data but less so on test data, consider techniques to reduce overfitting. These can include adding dropout layers, using regularization methods, or collecting more diverse training data.\n",
        "\n",
        "2. Handle Class Imbalance: If dataset is imbalanced, consider using techniques like SMOTE for oversampling the minority class or adjusting class weights in the model training process.\n",
        "\n",
        "3. Model and Hyperparameter Tuning: Experiment with different model architectures, learning rates, and other hyperparameters. Sometimes, a simpler model or different hyperparameters can yield better generalization.\n",
        "\n",
        "4. Cross-Validation: Implement cross-validation to assess the model’s performance more robustly across different subsets of  data.\n",
        "\n",
        "while model is learning and improving over the training epochs, there's a need for further tuning and potentially addressing overfitting and class imbalance to enhance its performance on unseen data."
      ],
      "metadata": {
        "id": "X38PNcSdd19f"
      }
    },
    {
      "cell_type": "markdown",
      "source": [
        "# Poor result showing thats why again we have come up with Balance the Dataset to reduce the over fitting"
      ],
      "metadata": {
        "id": "0Y4dBHKAMK3e"
      }
    },
    {
      "cell_type": "code",
      "source": [
        "!pip install -U imbalanced-learn\n"
      ],
      "metadata": {
        "colab": {
          "base_uri": "https://localhost:8080/"
        },
        "id": "Z1_Xut9eMQNG",
        "outputId": "2e53d362-700c-4604-e856-f1750651830b"
      },
      "execution_count": 50,
      "outputs": [
        {
          "output_type": "stream",
          "name": "stdout",
          "text": [
            "Requirement already satisfied: imbalanced-learn in /usr/local/lib/python3.10/dist-packages (0.11.0)\n",
            "Requirement already satisfied: numpy>=1.17.3 in /usr/local/lib/python3.10/dist-packages (from imbalanced-learn) (1.23.5)\n",
            "Requirement already satisfied: scipy>=1.5.0 in /usr/local/lib/python3.10/dist-packages (from imbalanced-learn) (1.11.3)\n",
            "Requirement already satisfied: scikit-learn>=1.0.2 in /usr/local/lib/python3.10/dist-packages (from imbalanced-learn) (1.2.2)\n",
            "Requirement already satisfied: joblib>=1.1.1 in /usr/local/lib/python3.10/dist-packages (from imbalanced-learn) (1.3.2)\n",
            "Requirement already satisfied: threadpoolctl>=2.0.0 in /usr/local/lib/python3.10/dist-packages (from imbalanced-learn) (3.2.0)\n"
          ]
        }
      ]
    },
    {
      "cell_type": "markdown",
      "source": [
        "# Apply ADASYN to Training Data\n",
        "Only Resample the Training Data: It's crucial to apply ADASYN only to the training data to prevent information leakage and ensure the model is evaluated on real, unmodified data."
      ],
      "metadata": {
        "id": "PSS6suq0MZNY"
      }
    },
    {
      "cell_type": "code",
      "source": [
        "# Assuming 'preprocessor' is on existing ColumnTransformer\n",
        "X_processed = preprocessor.fit_transform(X)\n"
      ],
      "metadata": {
        "id": "kuhnd9qlNV9P"
      },
      "execution_count": 51,
      "outputs": []
    },
    {
      "cell_type": "code",
      "source": [
        "X_train, X_test, y_train, y_test = train_test_split(X_processed, y, test_size=0.2, random_state=42)\n"
      ],
      "metadata": {
        "id": "mhWRVr88NdJK"
      },
      "execution_count": 52,
      "outputs": []
    },
    {
      "cell_type": "code",
      "source": [
        "from imblearn.over_sampling import ADASYN\n",
        "\n",
        "# Assuming X_train and y_train are already defined and preprocessed\n",
        "\n",
        "# Initialize the ADASYN object\n",
        "adasyn = ADASYN(random_state=42)\n",
        "\n",
        "# Resample the dataset\n",
        "X_train_resampled, y_train_resampled = adasyn.fit_resample(X_train, y_train)\n",
        "\n",
        "# Now, X_train_resampled and y_train_resampled have balanced classes\n"
      ],
      "metadata": {
        "id": "HVnfpZ3kMaKt"
      },
      "execution_count": 53,
      "outputs": []
    },
    {
      "cell_type": "markdown",
      "source": [
        "Underfitting: If the model is trained for too few epochs, it may not learn enough from the training data, leading to underfitting. In this case, increasing the number of epochs can improve the model's performance.\n",
        "Overfitting: If the model is trained for too many epochs, especially on a small dataset, it may start to memorize the training data rather than learning to generalize. This leads to overfitting, where the model performs well on the training data but poorly on unseen data (like test set).\n",
        "\n",
        "So thats why in terms of our small dataset same size we atleast tried to increased number of Epoch to see the outcomes\n"
      ],
      "metadata": {
        "id": "xzMSDvCiPt9n"
      }
    },
    {
      "cell_type": "markdown",
      "source": [],
      "metadata": {
        "id": "i37gBzGydnR2"
      }
    },
    {
      "cell_type": "markdown",
      "source": [
        "# Still no improvement. Thats another way implement\n",
        "\n",
        "Address Potential Overfitting\n"
      ],
      "metadata": {
        "id": "mm-sPZNAfm2-"
      }
    },
    {
      "cell_type": "code",
      "source": [
        "from tensorflow.keras.layers import Dropout\n",
        "\n",
        "def build_model_with_dropout(input_dim):\n",
        "    model = Sequential()\n",
        "    model.add(Dense(64, input_dim=input_dim, activation='relu'))\n",
        "    model.add(Dropout(0.5))  # Dropout layer\n",
        "    model.add(Dense(32, activation='relu'))\n",
        "    model.add(Dropout(0.5))  # Another Dropout layer\n",
        "    model.add(Dense(1, activation='sigmoid'))\n",
        "    model.compile(loss='binary_crossentropy', optimizer='adam', metrics=['accuracy'])\n",
        "    return model\n"
      ],
      "metadata": {
        "id": "w25Ag6nzfrJd"
      },
      "execution_count": 54,
      "outputs": []
    },
    {
      "cell_type": "markdown",
      "source": [
        "Adding Dropout Layers\n",
        "Dropout layers can help prevent overfitting by randomly setting a fraction of input units to 0 at each update during training time"
      ],
      "metadata": {
        "id": "COhRBM5SgqYs"
      }
    },
    {
      "cell_type": "markdown",
      "source": [
        "# Handle Class Imbalance\n",
        "Synthetic Minority Over-sampling Technique)\n",
        "SMOTE\n",
        "\n",
        "\n",
        "Avoid Data Leakage: Data leakage occurs when information from outside the training dataset is used to create the model. If the techniques were to apply SMOTE to entire dataset (including the test set) before splitting it into training and test sets, the outcome would be leaking information from the test data into the training process. This can lead to overly optimistic performance estimates."
      ],
      "metadata": {
        "id": "vsYxdtNYgyGb"
      }
    },
    {
      "cell_type": "code",
      "source": [
        "from imblearn.over_sampling import SMOTE\n",
        "\n",
        "# Apply SMOTE\n",
        "smote = SMOTE(random_state=42)\n",
        "X_train_resampled, y_train_resampled = smote.fit_resample(X_train, y_train)\n",
        "\n",
        "\n"
      ],
      "metadata": {
        "id": "d1ZVswt9g0dX"
      },
      "execution_count": 55,
      "outputs": []
    },
    {
      "cell_type": "markdown",
      "source": [
        "# Model and Hyperparameter Tuning\n"
      ],
      "metadata": {
        "id": "4uSaSAJig-If"
      }
    },
    {
      "cell_type": "code",
      "source": [
        "from tensorflow.keras.optimizers import Adam\n",
        "\n",
        "def build_model_tuned(input_dim):\n",
        "    model = Sequential()\n",
        "    model.add(Dense(64, input_dim=input_dim, activation='relu'))\n",
        "    model.add(Dense(32, activation='relu'))\n",
        "    model.add(Dense(1, activation='sigmoid'))\n",
        "    model.compile(loss='binary_crossentropy', optimizer=Adam(learning_rate=0.1), metrics=['accuracy'])\n",
        "    return model"
      ],
      "metadata": {
        "id": "rY49wlAzhByt"
      },
      "execution_count": 56,
      "outputs": []
    },
    {
      "cell_type": "markdown",
      "source": [
        "# Create a model instance:"
      ],
      "metadata": {
        "id": "qHX56q6ClIvh"
      }
    },
    {
      "cell_type": "code",
      "source": [
        "# Assuming input_dim (number of features) is correctly defined\n",
        "input_dim = X_train.shape[1]  # Replace with the correct input dimension if necessary\n",
        "model = build_model_tuned(input_dim)\n"
      ],
      "metadata": {
        "id": "VKPMWZrGlMY3"
      },
      "execution_count": 57,
      "outputs": []
    },
    {
      "cell_type": "markdown",
      "source": [
        "# Train the model:"
      ],
      "metadata": {
        "id": "ykaba7znlQqB"
      }
    },
    {
      "cell_type": "code",
      "source": [
        "history = model.fit(X_train, y_train, epochs=50, batch_size=40, validation_split=0.2, verbose=1)\n"
      ],
      "metadata": {
        "colab": {
          "base_uri": "https://localhost:8080/"
        },
        "id": "plsz-mi_lbNk",
        "outputId": "d6c2b7d7-1c50-4161-d87e-a422e949f5f6"
      },
      "execution_count": 58,
      "outputs": [
        {
          "output_type": "stream",
          "name": "stdout",
          "text": [
            "Epoch 1/50\n",
            "2/2 [==============================] - 1s 122ms/step - loss: 0.6781 - accuracy: 0.4884 - val_loss: 9.7982 - val_accuracy: 0.8182\n",
            "Epoch 2/50\n",
            "2/2 [==============================] - 0s 19ms/step - loss: 9.4150 - accuracy: 0.7907 - val_loss: 1.2034 - val_accuracy: 0.8182\n",
            "Epoch 3/50\n",
            "2/2 [==============================] - 0s 21ms/step - loss: 0.6465 - accuracy: 0.7907 - val_loss: 0.4907 - val_accuracy: 0.8182\n",
            "Epoch 4/50\n",
            "2/2 [==============================] - 0s 19ms/step - loss: 0.5295 - accuracy: 0.7674 - val_loss: 0.5943 - val_accuracy: 0.8182\n",
            "Epoch 5/50\n",
            "2/2 [==============================] - 0s 20ms/step - loss: 0.5696 - accuracy: 0.8140 - val_loss: 0.6344 - val_accuracy: 0.8182\n",
            "Epoch 6/50\n",
            "2/2 [==============================] - 0s 20ms/step - loss: 0.5607 - accuracy: 0.8140 - val_loss: 0.5861 - val_accuracy: 0.7273\n",
            "Epoch 7/50\n",
            "2/2 [==============================] - 0s 19ms/step - loss: 0.4966 - accuracy: 0.8605 - val_loss: 0.4873 - val_accuracy: 0.8182\n",
            "Epoch 8/50\n",
            "2/2 [==============================] - 0s 23ms/step - loss: 0.3915 - accuracy: 0.8605 - val_loss: 0.4880 - val_accuracy: 0.8182\n",
            "Epoch 9/50\n",
            "2/2 [==============================] - 0s 22ms/step - loss: 0.4016 - accuracy: 0.8605 - val_loss: 0.5627 - val_accuracy: 0.8182\n",
            "Epoch 10/50\n",
            "2/2 [==============================] - 0s 24ms/step - loss: 0.4082 - accuracy: 0.8140 - val_loss: 0.6030 - val_accuracy: 0.8182\n",
            "Epoch 11/50\n",
            "2/2 [==============================] - 0s 53ms/step - loss: 0.2665 - accuracy: 0.8605 - val_loss: 0.5268 - val_accuracy: 0.8182\n",
            "Epoch 12/50\n",
            "2/2 [==============================] - 0s 52ms/step - loss: 0.1250 - accuracy: 0.9302 - val_loss: 0.4474 - val_accuracy: 0.8182\n",
            "Epoch 13/50\n",
            "2/2 [==============================] - 0s 33ms/step - loss: 0.0841 - accuracy: 0.9535 - val_loss: 0.5196 - val_accuracy: 0.8182\n",
            "Epoch 14/50\n",
            "2/2 [==============================] - 0s 38ms/step - loss: 0.0953 - accuracy: 0.9535 - val_loss: 0.7820 - val_accuracy: 0.8182\n",
            "Epoch 15/50\n",
            "2/2 [==============================] - 0s 35ms/step - loss: 0.0919 - accuracy: 0.9767 - val_loss: 1.1828 - val_accuracy: 0.8182\n",
            "Epoch 16/50\n",
            "2/2 [==============================] - 0s 32ms/step - loss: 0.1175 - accuracy: 0.9535 - val_loss: 1.2568 - val_accuracy: 0.9091\n",
            "Epoch 17/50\n",
            "2/2 [==============================] - 0s 66ms/step - loss: 0.0564 - accuracy: 0.9535 - val_loss: 1.2395 - val_accuracy: 0.9091\n",
            "Epoch 18/50\n",
            "2/2 [==============================] - 0s 39ms/step - loss: 0.0137 - accuracy: 1.0000 - val_loss: 1.1855 - val_accuracy: 0.9091\n",
            "Epoch 19/50\n",
            "2/2 [==============================] - 0s 30ms/step - loss: 0.0583 - accuracy: 0.9767 - val_loss: 1.3648 - val_accuracy: 0.9091\n",
            "Epoch 20/50\n",
            "2/2 [==============================] - 0s 53ms/step - loss: 0.0437 - accuracy: 0.9767 - val_loss: 1.9240 - val_accuracy: 0.8182\n",
            "Epoch 21/50\n",
            "2/2 [==============================] - 0s 85ms/step - loss: 0.0848 - accuracy: 0.9535 - val_loss: 2.3077 - val_accuracy: 0.8182\n",
            "Epoch 22/50\n",
            "2/2 [==============================] - 0s 38ms/step - loss: 0.0927 - accuracy: 0.9535 - val_loss: 2.4351 - val_accuracy: 0.8182\n",
            "Epoch 23/50\n",
            "2/2 [==============================] - 0s 38ms/step - loss: 0.0207 - accuracy: 1.0000 - val_loss: 2.3496 - val_accuracy: 0.8182\n",
            "Epoch 24/50\n",
            "2/2 [==============================] - 0s 58ms/step - loss: 0.0054 - accuracy: 1.0000 - val_loss: 2.2089 - val_accuracy: 0.8182\n",
            "Epoch 25/50\n",
            "2/2 [==============================] - 0s 27ms/step - loss: 3.1840e-04 - accuracy: 1.0000 - val_loss: 2.0905 - val_accuracy: 0.9091\n",
            "Epoch 26/50\n",
            "2/2 [==============================] - 0s 31ms/step - loss: 4.9088e-04 - accuracy: 1.0000 - val_loss: 1.9950 - val_accuracy: 0.9091\n",
            "Epoch 27/50\n",
            "2/2 [==============================] - 0s 50ms/step - loss: 0.0019 - accuracy: 1.0000 - val_loss: 1.9465 - val_accuracy: 0.9091\n",
            "Epoch 28/50\n",
            "2/2 [==============================] - 0s 35ms/step - loss: 0.0041 - accuracy: 1.0000 - val_loss: 2.1607 - val_accuracy: 0.9091\n",
            "Epoch 29/50\n",
            "2/2 [==============================] - 0s 30ms/step - loss: 1.7385e-04 - accuracy: 1.0000 - val_loss: 2.6190 - val_accuracy: 0.9091\n",
            "Epoch 30/50\n",
            "2/2 [==============================] - 0s 29ms/step - loss: 0.1065 - accuracy: 0.9767 - val_loss: 2.6848 - val_accuracy: 0.9091\n",
            "Epoch 31/50\n",
            "2/2 [==============================] - 0s 46ms/step - loss: 0.1119 - accuracy: 0.9767 - val_loss: 2.4343 - val_accuracy: 0.9091\n",
            "Epoch 32/50\n",
            "2/2 [==============================] - 0s 27ms/step - loss: 0.0026 - accuracy: 1.0000 - val_loss: 2.2159 - val_accuracy: 0.9091\n",
            "Epoch 33/50\n",
            "2/2 [==============================] - 0s 31ms/step - loss: 2.5574e-04 - accuracy: 1.0000 - val_loss: 2.0461 - val_accuracy: 0.9091\n",
            "Epoch 34/50\n",
            "2/2 [==============================] - 0s 29ms/step - loss: 2.0761e-04 - accuracy: 1.0000 - val_loss: 1.9130 - val_accuracy: 0.9091\n",
            "Epoch 35/50\n",
            "2/2 [==============================] - 0s 27ms/step - loss: 1.8711e-04 - accuracy: 1.0000 - val_loss: 1.8089 - val_accuracy: 0.9091\n",
            "Epoch 36/50\n",
            "2/2 [==============================] - 0s 45ms/step - loss: 1.6608e-04 - accuracy: 1.0000 - val_loss: 1.7280 - val_accuracy: 0.9091\n",
            "Epoch 37/50\n",
            "2/2 [==============================] - 0s 46ms/step - loss: 1.5108e-04 - accuracy: 1.0000 - val_loss: 1.6646 - val_accuracy: 0.9091\n",
            "Epoch 38/50\n",
            "2/2 [==============================] - 0s 26ms/step - loss: 1.4041e-04 - accuracy: 1.0000 - val_loss: 1.6139 - val_accuracy: 0.9091\n",
            "Epoch 39/50\n",
            "2/2 [==============================] - 0s 31ms/step - loss: 1.3302e-04 - accuracy: 1.0000 - val_loss: 1.5732 - val_accuracy: 0.9091\n",
            "Epoch 40/50\n",
            "2/2 [==============================] - 0s 49ms/step - loss: 1.2784e-04 - accuracy: 1.0000 - val_loss: 1.5404 - val_accuracy: 0.9091\n",
            "Epoch 41/50\n",
            "2/2 [==============================] - 0s 28ms/step - loss: 1.2491e-04 - accuracy: 1.0000 - val_loss: 1.5143 - val_accuracy: 0.9091\n",
            "Epoch 42/50\n",
            "2/2 [==============================] - 0s 26ms/step - loss: 1.2145e-04 - accuracy: 1.0000 - val_loss: 1.4935 - val_accuracy: 0.9091\n",
            "Epoch 43/50\n",
            "2/2 [==============================] - 0s 27ms/step - loss: 1.1917e-04 - accuracy: 1.0000 - val_loss: 1.4768 - val_accuracy: 0.9091\n",
            "Epoch 44/50\n",
            "2/2 [==============================] - 0s 30ms/step - loss: 1.1743e-04 - accuracy: 1.0000 - val_loss: 1.4634 - val_accuracy: 0.9091\n",
            "Epoch 45/50\n",
            "2/2 [==============================] - 0s 26ms/step - loss: 1.1558e-04 - accuracy: 1.0000 - val_loss: 1.4528 - val_accuracy: 0.9091\n",
            "Epoch 46/50\n",
            "2/2 [==============================] - 0s 25ms/step - loss: 1.1396e-04 - accuracy: 1.0000 - val_loss: 1.4443 - val_accuracy: 0.9091\n",
            "Epoch 47/50\n",
            "2/2 [==============================] - 0s 27ms/step - loss: 1.1243e-04 - accuracy: 1.0000 - val_loss: 1.4375 - val_accuracy: 0.9091\n",
            "Epoch 48/50\n",
            "2/2 [==============================] - 0s 26ms/step - loss: 1.1096e-04 - accuracy: 1.0000 - val_loss: 1.4322 - val_accuracy: 0.9091\n",
            "Epoch 49/50\n",
            "2/2 [==============================] - 0s 29ms/step - loss: 1.0954e-04 - accuracy: 1.0000 - val_loss: 1.4281 - val_accuracy: 0.9091\n",
            "Epoch 50/50\n",
            "2/2 [==============================] - 0s 47ms/step - loss: 1.0817e-04 - accuracy: 1.0000 - val_loss: 1.4249 - val_accuracy: 0.9091\n"
          ]
        }
      ]
    },
    {
      "cell_type": "markdown",
      "source": [
        "# Evaluate the model:"
      ],
      "metadata": {
        "id": "twdNCpeGlnGe"
      }
    },
    {
      "cell_type": "code",
      "source": [
        "loss, accuracy = model.evaluate(X_test, y_test)\n",
        "print(\"Test Accuracy:\", accuracy)\n"
      ],
      "metadata": {
        "colab": {
          "base_uri": "https://localhost:8080/"
        },
        "id": "caexxNdHloKr",
        "outputId": "e4b144a4-bf13-48ff-b354-5d1535bb1806"
      },
      "execution_count": 59,
      "outputs": [
        {
          "output_type": "stream",
          "name": "stdout",
          "text": [
            "1/1 [==============================] - 0s 21ms/step - loss: 4.5553 - accuracy: 0.6429\n",
            "Test Accuracy: 0.6428571343421936\n"
          ]
        }
      ]
    },
    {
      "cell_type": "code",
      "source": [
        "import matplotlib.pyplot as plt\n",
        "\n",
        "# Plot training & validation accuracy values\n",
        "plt.plot(history.history['accuracy'])\n",
        "plt.plot(history.history['val_accuracy'])\n",
        "plt.title('Model accuracy')\n",
        "plt.ylabel('Accuracy')\n",
        "plt.xlabel('Epoch')\n",
        "plt.legend(['Train', 'Validation'], loc='upper left')\n",
        "plt.show()\n",
        "\n",
        "# Plot training & validation loss values\n",
        "plt.plot(history.history['loss'])\n",
        "plt.plot(history.history['val_loss'])\n",
        "plt.title('Model loss')\n",
        "plt.ylabel('Loss')\n",
        "plt.xlabel('Epoch')\n",
        "plt.legend(['Train', 'Validation'], loc='upper left')\n",
        "plt.show()\n"
      ],
      "metadata": {
        "colab": {
          "base_uri": "https://localhost:8080/",
          "height": 927
        },
        "id": "5mW0HCiTlycB",
        "outputId": "0287e187-180d-4dbe-bfd6-a6668eaea960"
      },
      "execution_count": 60,
      "outputs": [
        {
          "output_type": "display_data",
          "data": {
            "text/plain": [
              "<Figure size 640x480 with 1 Axes>"
            ],
            "image/png": "[encoded data removed]"
          },
          "metadata": {}
        },
        {
          "output_type": "display_data",
          "data": {
            "text/plain": [
              "<Figure size 640x480 with 1 Axes>"
            ],
            "image/png": "[encoded data removed]"
          },
          "metadata": {}
        }
      ]
    },
    {
      "cell_type": "markdown",
      "source": [
        "Based on the training and validation results of model over 50 epochs, here's a summary of the outcomes:\n",
        "\n",
        "1. Training Loss and Accuracy: The model starts with a loss of 0.6216 and an accuracy of 60.47% in the first epoch. As the training progresses, both the loss and accuracy improve significantly. By the 50th epoch, the training loss has reduced to 0.0811, and the training accuracy has increased to 97.67%. This indicates that the model has learned effectively from the training data, capturing the underlying patterns.\n",
        "\n",
        "2. Validation Loss and Accuracy: The validation loss and accuracy provide insights into how well the model generalizes to new, unseen data. Initially, there's a fluctuation in validation loss, but it generally increases over time, reaching 1.0160 by the 50th epoch. Conversely, the validation accuracy starts high at 81.82% and improves to 90.91%. However, the increasing trend in validation loss suggests potential overfitting."
      ],
      "metadata": {
        "id": "-EfizX8Faa3V"
      }
    },
    {
      "cell_type": "markdown",
      "source": [
        "# Cross-Validation\n",
        "The cross validation result has been used to assess the model result finally"
      ],
      "metadata": {
        "id": "f3SNQJxrhGz8"
      }
    },
    {
      "cell_type": "code",
      "source": [
        "from sklearn.model_selection import StratifiedKFold\n",
        "import numpy as np\n",
        "\n",
        "# Number of folds\n",
        "n_folds = 5\n",
        "\n",
        "# Define the K-fold cross-validator\n",
        "kfold = StratifiedKFold(n_splits=n_folds, shuffle=True, random_state=42)\n",
        "\n",
        "# For storing scores\n",
        "scores = []\n",
        "\n",
        "for train, test in kfold.split(X_train_resampled, y_train_resampled):\n",
        "    # Create model\n",
        "    model = build_model_tuned(X_train_resampled.shape[1])\n",
        "\n",
        "    # Train model on resampled data\n",
        "    model.fit(X_train_resampled[train], y_train_resampled[train], epochs=50, batch_size=40, verbose=0)\n",
        "\n",
        "    # Evaluate model on resampled validation data\n",
        "    scores.append(model.evaluate(X_train_resampled[test], y_train_resampled[test], verbose=0))\n",
        "\n",
        "# Convert scores to a numpy array and calculate mean accuracy\n",
        "scores = np.array(scores)\n",
        "mean_accuracy = np.mean(scores[:, 1])\n",
        "print(\"Cross-Validation Accuracy: {:.2f}%\".format(mean_accuracy * 100))\n"
      ],
      "metadata": {
        "colab": {
          "base_uri": "https://localhost:8080/"
        },
        "id": "whIOJN0fhHY5",
        "outputId": "5451ec61-3098-4e70-98b4-3f785ee473fe"
      },
      "execution_count": 69,
      "outputs": [
        {
          "output_type": "stream",
          "name": "stdout",
          "text": [
            "Cross-Validation Accuracy: 94.12%\n"
          ]
        }
      ]
    },
    {
      "cell_type": "markdown",
      "source": [
        "Implementing cross-validation after observing the previous results is a strategic move to enhance the model's robustness and generalization ability. Here are the key reasons for using cross-validation, especially in the context of project:\n",
        "\n",
        "1. **Assessing Generalization**: The initial results indicated potential overfitting, as evidenced by the increasing validation loss. Cross-validation is a powerful technique to evaluate how well the model generalizes to unseen data. By training and evaluating the model across different subsets of the data, you gain a more comprehensive understanding of its performance.\n",
        "\n",
        "2. **Reducing Variance**: Single train-test splits can sometimes lead to variance in model performance, depending on how the data is divided. Cross-validation, by training and testing on multiple folds, reduces this variance and provides a more reliable estimate of model performance.\n",
        "\n",
        "3. **Model Stability**: The results from cross-validation (especially with StratifiedKFold) give insights into the stability of the model across different data distributions. StratifiedKFold maintains the percentage of samples for each class, ensuring that each fold is a good representative of the whole. This is particularly important in medical datasets where the balance of classes is crucial.\n",
        "\n",
        "4. **Avoiding Data Wastage**: In a scenario where dataset might not be very large, cross-validation allows you to use every data point for both training and validation. This maximizes the data utility, which is crucial for developing an effective model.\n",
        "\n",
        "5. **Robust Model Evaluation**: The Cross-Validation Accuracy of 90.65% is a more reliable metric than a single validation set accuracy. It averages the model’s performance across different subsets, offering a more holistic view of its effectiveness.\n",
        "\n",
        "6. **Further Model Tuning**: The cross-validation results can be used to further tune the model. For instance, if certain folds show lower performance, it might indicate a need for more robust feature engineering or hyperparameter adjustments for those specific data characteristics.\n",
        "\n",
        "The use of cross-validation in project is a methodological step to ensure the reliability, stability, and generalizability of model, especially in light of the initial signs of overfitting. It's a best practice in machine learning, particularly in critical fields like healthcare, where model accuracy and reliability are paramount."
      ],
      "metadata": {
        "id": "Dn0eW_Egc72w"
      }
    },
    {
      "cell_type": "markdown",
      "source": [
        "# XGBoost"
      ],
      "metadata": {
        "id": "T8NhwDXbCK35"
      }
    },
    {
      "cell_type": "code",
      "source": [
        "pip install xgboost\n"
      ],
      "metadata": {
        "colab": {
          "base_uri": "https://localhost:8080/"
        },
        "id": "s_ZKlW1VBA9W",
        "outputId": "2b7155e9-c522-4daf-e1cb-3b9bf00f4d9a"
      },
      "execution_count": 62,
      "outputs": [
        {
          "output_type": "stream",
          "name": "stdout",
          "text": [
            "Requirement already satisfied: xgboost in /usr/local/lib/python3.10/dist-packages (2.0.2)\n",
            "Requirement already satisfied: numpy in /usr/local/lib/python3.10/dist-packages (from xgboost) (1.23.5)\n",
            "Requirement already satisfied: scipy in /usr/local/lib/python3.10/dist-packages (from xgboost) (1.11.3)\n"
          ]
        }
      ]
    },
    {
      "cell_type": "code",
      "source": [
        "import xgboost as xgb\n",
        "\n",
        "# Create DMatrix for XGBoost\n",
        "dtrain = xgb.DMatrix(X_train_resampled, label=y_train_resampled)\n",
        "dtest = xgb.DMatrix(X_test, label=y_test)\n",
        "\n",
        "# Set XGBoost parameters\n",
        "params = {\n",
        "    'max_depth': 3,  # depth of the trees\n",
        "    'eta': 0.1,      # learning rate\n",
        "    'objective': 'binary:logistic',  # loss function for binary classification\n",
        "    'eval_metric': 'logloss',  # evaluation metric\n",
        "    # Add more parameters here as needed\n",
        "}\n",
        "epochs = 100  # number of epochs\n",
        "\n",
        "# Train the model\n",
        "model = xgb.train(params, dtrain, epochs)\n",
        "\n",
        "# Make predictions\n",
        "predictions = model.predict(dtest)\n",
        "print(predictions)\n"
      ],
      "metadata": {
        "colab": {
          "base_uri": "https://localhost:8080/"
        },
        "id": "mF9ulawUB1LT",
        "outputId": "765cd3b4-e0dc-4010-f2cc-6b52cd25164b"
      },
      "execution_count": 63,
      "outputs": [
        {
          "output_type": "stream",
          "name": "stdout",
          "text": [
            "[0.9861833  0.98352206 0.9553467  0.10383643 0.96756965 0.95692444\n",
            " 0.07857056 0.6996847  0.51419806 0.9890808  0.98000973 0.9946733\n",
            " 0.02348207 0.9890295 ]\n"
          ]
        }
      ]
    },
    {
      "cell_type": "code",
      "source": [
        "from sklearn.metrics import accuracy_score, classification_report\n",
        "\n",
        "print(\"Accuracy:\", accuracy_score(y_test, y_pred))\n",
        "print(classification_report(y_test, y_pred))\n"
      ],
      "metadata": {
        "colab": {
          "base_uri": "https://localhost:8080/"
        },
        "id": "Bz9xYIBqB52y",
        "outputId": "f7bdb69c-95bf-4193-d0f3-70f302be2d0a"
      },
      "execution_count": 64,
      "outputs": [
        {
          "output_type": "stream",
          "name": "stdout",
          "text": [
            "Accuracy: 0.42857142857142855\n",
            "              precision    recall  f1-score   support\n",
            "\n",
            "           0       0.00      0.00      0.00         7\n",
            "           1       0.46      0.86      0.60         7\n",
            "\n",
            "    accuracy                           0.43        14\n",
            "   macro avg       0.23      0.43      0.30        14\n",
            "weighted avg       0.23      0.43      0.30        14\n",
            "\n"
          ]
        }
      ]
    },
    {
      "cell_type": "markdown",
      "source": [
        "# ACCURACY very low thats why tuning"
      ],
      "metadata": {
        "id": "1ho6pvt9DPtO"
      }
    },
    {
      "cell_type": "code",
      "source": [
        "from sklearn.model_selection import GridSearchCV\n",
        "from xgboost import XGBClassifier\n",
        "\n",
        "# Define the parameter grid\n",
        "param_grid = {\n",
        "    'max_depth': [3, 5, 7],\n",
        "    'min_child_weight': [1, 3, 5],\n",
        "    'gamma': [0, 0.1, 0.2],\n",
        "    'subsample': [0.6, 0.8, 1.0],\n",
        "    'colsample_bytree': [0.6, 0.8, 1.0],\n",
        "    'learning_rate': [0.01, 0.1, 0.2],\n",
        "    'n_estimators': [100, 200, 300]\n",
        "}\n",
        "\n",
        "# Initialize the XGBClassifier\n",
        "xgb_clf = XGBClassifier(use_label_encoder=False, eval_metric='logloss')\n",
        "\n",
        "# Initialize GridSearchCV\n",
        "grid_search = GridSearchCV(estimator=xgb_clf, param_grid=param_grid, cv=3, n_jobs=-1, verbose=2)\n",
        "\n",
        "# Fit GridSearchCV\n",
        "grid_search.fit(X_train_resampled, y_train_resampled)\n",
        "\n",
        "# Best parameters and best score\n",
        "print(\"Best Parameters:\", grid_search.best_params_)\n",
        "print(\"Best Score:\", grid_search.best_score_)\n"
      ],
      "metadata": {
        "colab": {
          "base_uri": "https://localhost:8080/"
        },
        "id": "PhU-hs6PDTSL",
        "outputId": "e26ee945-42e3-4bb8-be59-6cda7569cfbc"
      },
      "execution_count": 65,
      "outputs": [
        {
          "output_type": "stream",
          "name": "stdout",
          "text": [
            "Fitting 3 folds for each of 2187 candidates, totalling 6561 fits\n",
            "Best Parameters: {'colsample_bytree': 0.6, 'gamma': 0.1, 'learning_rate': 0.1, 'max_depth': 3, 'min_child_weight': 1, 'n_estimators': 200, 'subsample': 0.6}\n",
            "Best Score: 0.9425287356321839\n"
          ]
        }
      ]
    },
    {
      "cell_type": "markdown",
      "source": [
        "# By using These Parameters: Implement an XGBoost model:"
      ],
      "metadata": {
        "id": "gq66zMKHKvMz"
      }
    },
    {
      "cell_type": "code",
      "source": [
        "final_model = xgb.XGBClassifier(\n",
        "    colsample_bytree=0.6,\n",
        "    gamma=0.1,\n",
        "    learning_rate=0.1,\n",
        "    max_depth=3,\n",
        "    min_child_weight=1,\n",
        "    n_estimators=200,\n",
        "    subsample=0.6,\n",
        "    use_label_encoder=False,\n",
        "    eval_metric='logloss'\n",
        ")\n",
        "final_model.fit(X_train_resampled, y_train_resampled)\n"
      ],
      "metadata": {
        "colab": {
          "base_uri": "https://localhost:8080/",
          "height": 248
        },
        "id": "iuEabVuiDp1b",
        "outputId": "fefd4e26-ac69-4a84-ac41-04812866ecad"
      },
      "execution_count": 66,
      "outputs": [
        {
          "output_type": "execute_result",
          "data": {
            "text/plain": [
              "XGBClassifier(base_score=None, booster=None, callbacks=None,\n",
              "              colsample_bylevel=None, colsample_bynode=None,\n",
              "              colsample_bytree=0.6, device=None, early_stopping_rounds=None,\n",
              "              enable_categorical=False, eval_metric='logloss',\n",
              "              feature_types=None, gamma=0.1, grow_policy=None,\n",
              "              importance_type=None, interaction_constraints=None,\n",
              "              learning_rate=0.1, max_bin=None, max_cat_threshold=None,\n",
              "              max_cat_to_onehot=None, max_delta_step=None, max_depth=3,\n",
              "              max_leaves=None, min_child_weight=1, missing=nan,\n",
              "              monotone_constraints=None, multi_strategy=None, n_estimators=200,\n",
              "              n_jobs=None, num_parallel_tree=None, random_state=None, ...)"
            ],
            "text/html": [
              "<style>#sk-container-id-2 {color: black;background-color: white;}#sk-container-id-2 pre{padding: 0;}#sk-container-id-2 div.sk-toggleable {background-color: white;}#sk-container-id-2 label.sk-toggleable__label {cursor: pointer;display: block;width: 100%;margin-bottom: 0;padding: 0.3em;box-sizing: border-box;text-align: center;}#sk-container-id-2 label.sk-toggleable__label-arrow:before {content: \"▸\";float: left;margin-right: 0.25em;color: #696969;}#sk-container-id-2 label.sk-toggleable__label-arrow:hover:before {color: black;}#sk-container-id-2 div.sk-estimator:hover label.sk-toggleable__label-arrow:before {color: black;}#sk-container-id-2 div.sk-toggleable__content {max-height: 0;max-width: 0;overflow: hidden;text-align: left;background-color: #f0f8ff;}#sk-container-id-2 div.sk-toggleable__content pre {margin: 0.2em;color: black;border-radius: 0.25em;background-color: #f0f8ff;}#sk-container-id-2 input.sk-toggleable__control:checked~div.sk-toggleable__content {max-height: 200px;max-width: 100%;overflow: auto;}#sk-container-id-2 input.sk-toggleable__control:checked~label.sk-toggleable__label-arrow:before {content: \"▾\";}#sk-container-id-2 div.sk-estimator input.sk-toggleable__control:checked~label.sk-toggleable__label {background-color: #d4ebff;}#sk-container-id-2 div.sk-label input.sk-toggleable__control:checked~label.sk-toggleable__label {background-color: #d4ebff;}#sk-container-id-2 input.sk-hidden--visually {border: 0;clip: rect(1px 1px 1px 1px);clip: rect(1px, 1px, 1px, 1px);height: 1px;margin: -1px;overflow: hidden;padding: 0;position: absolute;width: 1px;}#sk-container-id-2 div.sk-estimator {font-family: monospace;background-color: #f0f8ff;border: 1px dotted black;border-radius: 0.25em;box-sizing: border-box;margin-bottom: 0.5em;}#sk-container-id-2 div.sk-estimator:hover {background-color: #d4ebff;}#sk-container-id-2 div.sk-parallel-item::after {content: \"\";width: 100%;border-bottom: 1px solid gray;flex-grow: 1;}#sk-container-id-2 div.sk-label:hover label.sk-toggleable__label {background-color: #d4ebff;}#sk-container-id-2 div.sk-serial::before {content: \"\";position: absolute;border-left: 1px solid gray;box-sizing: border-box;top: 0;bottom: 0;left: 50%;z-index: 0;}#sk-container-id-2 div.sk-serial {display: flex;flex-direction: column;align-items: center;background-color: white;padding-right: 0.2em;padding-left: 0.2em;position: relative;}#sk-container-id-2 div.sk-item {position: relative;z-index: 1;}#sk-container-id-2 div.sk-parallel {display: flex;align-items: stretch;justify-content: center;background-color: white;position: relative;}#sk-container-id-2 div.sk-item::before, #sk-container-id-2 div.sk-parallel-item::before {content: \"\";position: absolute;border-left: 1px solid gray;box-sizing: border-box;top: 0;bottom: 0;left: 50%;z-index: -1;}#sk-container-id-2 div.sk-parallel-item {display: flex;flex-direction: column;z-index: 1;position: relative;background-color: white;}#sk-container-id-2 div.sk-parallel-item:first-child::after {align-self: flex-end;width: 50%;}#sk-container-id-2 div.sk-parallel-item:last-child::after {align-self: flex-start;width: 50%;}#sk-container-id-2 div.sk-parallel-item:only-child::after {width: 0;}#sk-container-id-2 div.sk-dashed-wrapped {border: 1px dashed gray;margin: 0 0.4em 0.5em 0.4em;box-sizing: border-box;padding-bottom: 0.4em;background-color: white;}#sk-container-id-2 div.sk-label label {font-family: monospace;font-weight: bold;display: inline-block;line-height: 1.2em;}#sk-container-id-2 div.sk-label-container {text-align: center;}#sk-container-id-2 div.sk-container {/* jupyter's `normalize.less` sets `[hidden] { display: none; }` but bootstrap.min.css set `[hidden] { display: none !important; }` so we also need the `!important` here to be able to override the default hidden behavior on the sphinx rendered scikit-learn.org. See: https://github.com/scikit-learn/scikit-learn/issues/21755 */display: inline-block !important;position: relative;}#sk-container-id-2 div.sk-text-repr-fallback {display: none;}</style><div id=\"sk-container-id-2\" class=\"sk-top-container\"><div class=\"sk-text-repr-fallback\"><pre>XGBClassifier(base_score=None, booster=None, callbacks=None,\n",
              "              colsample_bylevel=None, colsample_bynode=None,\n",
              "              colsample_bytree=0.6, device=None, early_stopping_rounds=None,\n",
              "              enable_categorical=False, eval_metric=&#x27;logloss&#x27;,\n",
              "              feature_types=None, gamma=0.1, grow_policy=None,\n",
              "              importance_type=None, interaction_constraints=None,\n",
              "              learning_rate=0.1, max_bin=None, max_cat_threshold=None,\n",
              "              max_cat_to_onehot=None, max_delta_step=None, max_depth=3,\n",
              "              max_leaves=None, min_child_weight=1, missing=nan,\n",
              "              monotone_constraints=None, multi_strategy=None, n_estimators=200,\n",
              "              n_jobs=None, num_parallel_tree=None, random_state=None, ...)</pre><b>In a Jupyter environment, please rerun this cell to show the HTML representation or trust the notebook. <br />On GitHub, the HTML representation is unable to render, please try loading this page with nbviewer.org.</b></div><div class=\"sk-container\" hidden><div class=\"sk-item\"><div class=\"sk-estimator sk-toggleable\"><input class=\"sk-toggleable__control sk-hidden--visually\" id=\"sk-estimator-id-2\" type=\"checkbox\" checked><label for=\"sk-estimator-id-2\" class=\"sk-toggleable__label sk-toggleable__label-arrow\">XGBClassifier</label><div class=\"sk-toggleable__content\"><pre>XGBClassifier(base_score=None, booster=None, callbacks=None,\n",
              "              colsample_bylevel=None, colsample_bynode=None,\n",
              "              colsample_bytree=0.6, device=None, early_stopping_rounds=None,\n",
              "              enable_categorical=False, eval_metric=&#x27;logloss&#x27;,\n",
              "              feature_types=None, gamma=0.1, grow_policy=None,\n",
              "              importance_type=None, interaction_constraints=None,\n",
              "              learning_rate=0.1, max_bin=None, max_cat_threshold=None,\n",
              "              max_cat_to_onehot=None, max_delta_step=None, max_depth=3,\n",
              "              max_leaves=None, min_child_weight=1, missing=nan,\n",
              "              monotone_constraints=None, multi_strategy=None, n_estimators=200,\n",
              "              n_jobs=None, num_parallel_tree=None, random_state=None, ...)</pre></div></div></div></div></div>"
            ]
          },
          "metadata": {},
          "execution_count": 66
        }
      ]
    },
    {
      "cell_type": "markdown",
      "source": [
        "# Evaluate on Test Data:"
      ],
      "metadata": {
        "id": "BmAl4JxOMMPy"
      }
    },
    {
      "cell_type": "code",
      "source": [
        "y_pred = final_model.predict(X_test)\n",
        "print(\"Test Accuracy:\", accuracy_score(y_test, y_pred))\n",
        "print(classification_report(y_test, y_pred))\n"
      ],
      "metadata": {
        "colab": {
          "base_uri": "https://localhost:8080/"
        },
        "id": "xQQl-EqnMHBa",
        "outputId": "000a91eb-cd8c-40c6-cd58-7807fbb657d3"
      },
      "execution_count": 67,
      "outputs": [
        {
          "output_type": "stream",
          "name": "stdout",
          "text": [
            "Test Accuracy: 0.6428571428571429\n",
            "              precision    recall  f1-score   support\n",
            "\n",
            "           0       0.75      0.43      0.55         7\n",
            "           1       0.60      0.86      0.71         7\n",
            "\n",
            "    accuracy                           0.64        14\n",
            "   macro avg       0.68      0.64      0.63        14\n",
            "weighted avg       0.67      0.64      0.63        14\n",
            "\n"
          ]
        }
      ]
    },
    {
      "cell_type": "markdown",
      "source": [
        "\n",
        "In our project dataset Includes features like age, residence, education status, occupation, socioeconomic status, BMI, blood pressure, gestational age, parity, dressing style, sun exposure, dairy product consumption, multivitamin use, season, vitamin D status, and pregnancy loss.\n",
        "\n",
        "Why Deep Neural Network (DNN)?\n",
        "1. Complex Pattern Recognition: Pregnancy and its complications can be influenced by complex interactions between various factors (e.g., health indicators, environmental factors). DNNs are excellent at modeling these complex, non-linear interactions.\n",
        "\n",
        "2. Feature Integration: dataset contains a mix of categorical and numerical data. DNNs are capable of integrating this diverse information effectively.\n",
        "\n",
        "3. Predictive Power: For a goal like early detection, you need a model with high predictive capabilities. DNNs, with proper tuning, have the potential to achieve high accuracy.\n",
        "\n",
        "4. daptability: DNNs can be adapted or expanded with more layers or neurons to handle the complexity as more data or features (like genetic information or detailed medical history) become available.\n",
        "\n",
        "Why XGBoost?\n",
        "\n",
        "1. Structured Data Performance: dataset is structured/tabular, which is where models like XGBoost excel.\n",
        "\n",
        "2. Handling Diverse Data Types: XGBoost can effectively handle the variety of data types present in dataset, from categorical to continuous variables.\n",
        "\n",
        "3. Efficiency: XGBoost provides a balance of predictive power and computational efficiency, crucial for processing large datasets or when computational resources are a constraint.\n",
        "\n",
        "4. Interpretability: Understanding the factors influencing early pregnancy detection and prevention is as important as the prediction. XGBoost offers interpretable outputs like feature importance, helping in understanding which factors are most predictive.\n",
        "\n",
        "\n",
        "The choice of DNN and XGBoost aligns well with the complex nature of medical data and the need for both predictive power and interpretability. DNNs offer a sophisticated approach to model the complex patterns in the data, while XGBoost provides an efficient, interpretable alternative. This dual approach allows for a comprehensive analysis, leveraging the strengths of both model types to achieve the project's aim of early pregnancy detection and prevention."
      ],
      "metadata": {
        "id": "u1FYRkfzZKiG"
      }
    },
    {
      "cell_type": "markdown",
      "source": [
        "Key Points:\n",
        "XGBoost CV: Leverage the built-in cross-validation method for efficiency.\n",
        "DNN CV: Wrap the model using KerasClassifier and then apply cross_val_score with StratifiedKFold.\n",
        "Purpose: Cross-validation ensures the model's generalizability and robustness by evaluating it across multiple subsets of data."
      ],
      "metadata": {
        "id": "1QYV0YEafDHq"
      }
    },
    {
      "cell_type": "code",
      "source": [
        "import numpy as np\n",
        "from sklearn.model_selection import cross_val_score\n",
        "from xgboost import XGBClassifier\n",
        "\n",
        "# Initialize the XGBClassifier with the best hyperparameters\n",
        "final_model = XGBClassifier(\n",
        "    colsample_bytree=0.6,\n",
        "    gamma=0.1,\n",
        "    learning_rate=0.1,\n",
        "    max_depth=3,\n",
        "    min_child_weight=1,\n",
        "    n_estimators=200,\n",
        "    subsample=0.6,\n",
        "    use_label_encoder=False,\n",
        "    eval_metric='logloss'\n",
        ")\n",
        "\n",
        "# Perform cross-validation\n",
        "cv_scores = cross_val_score(final_model, X_train_resampled, y_train_resampled, cv=5, scoring='accuracy')\n",
        "\n",
        "# Print the cross-validation scores\n",
        "print(\"Cross-Validation Scores:\", cv_scores)\n",
        "print(\"Mean Accuracy:\", np.mean(cv_scores))\n"
      ],
      "metadata": {
        "colab": {
          "base_uri": "https://localhost:8080/"
        },
        "id": "jazZuNfp4kBZ",
        "outputId": "bbbeb56c-48b5-4553-ed7d-e95a770283ce"
      },
      "execution_count": 68,
      "outputs": [
        {
          "output_type": "stream",
          "name": "stdout",
          "text": [
            "Cross-Validation Scores: [0.77777778 0.82352941 1.         1.         1.        ]\n",
            "Mean Accuracy: 0.9202614379084967\n"
          ]
        }
      ]
    },
    {
      "cell_type": "code",
      "source": [],
      "metadata": {
        "id": "G7jXWX754kht"
      },
      "execution_count": null,
      "outputs": []
    }
  ]
}